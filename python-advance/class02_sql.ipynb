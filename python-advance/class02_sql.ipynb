{
 "cells": [
  {
   "cell_type": "code",
   "execution_count": 46,
   "metadata": {},
   "outputs": [],
   "source": [
    "import pandas as pd\n",
    "import sqlite3\n",
    "from sqlalchemy import create_engine\n",
    "from pymongo import MongoClient"
   ]
  },
  {
   "cell_type": "code",
   "execution_count": 17,
   "outputs": [],
   "source": [
    "#database_connection = create_engine(\"sqlite:///sample.db\")\n",
    "#dataframe = pd.read_sql_query('SELECT * FROM data', database_connection)"
   ],
   "metadata": {
    "collapsed": false,
    "pycharm": {
     "name": "#%%\n"
    }
   }
  },
  {
   "cell_type": "code",
   "execution_count": 20,
   "outputs": [],
   "source": [
    "conn = sqlite3.connect('example.db')\n",
    "cursor = conn.cursor()"
   ],
   "metadata": {
    "collapsed": false,
    "pycharm": {
     "name": "#%%\n"
    }
   }
  },
  {
   "cell_type": "code",
   "execution_count": 24,
   "outputs": [],
   "source": [
    "create_table = '''\n",
    "    CREATE TABLE employee(\n",
    "    first_name char(20) not null,\n",
    "    last_name char(20),\n",
    "    age int,\n",
    "    sex char(1),\n",
    "    income float)\n",
    "'''"
   ],
   "metadata": {
    "collapsed": false,
    "pycharm": {
     "name": "#%%\n"
    }
   }
  },
  {
   "cell_type": "code",
   "execution_count": 33,
   "outputs": [],
   "source": [
    "cursor.execute(create_table)\n",
    "conn.commit()"
   ],
   "metadata": {
    "collapsed": false,
    "pycharm": {
     "name": "#%%\n"
    }
   }
  },
  {
   "cell_type": "code",
   "execution_count": 36,
   "outputs": [],
   "source": [
    "insert_employee_1 = '''\n",
    "    INSERT INTO employee\n",
    "    (first_name, last_name, age, sex, income) VALUES\n",
    "    ('milo', 'espitia', 26, 'M', 10000)\n",
    "'''\n",
    "\n",
    "insert_employee_2 = '''\n",
    "    INSERT INTO employee\n",
    "    (first_name, last_name, age, sex, income) VALUES\n",
    "    ('Ruben', 'Espitia', 28, 'M', 20000)\n",
    "'''\n",
    "\n",
    "cursor.execute(insert_employee_1)\n",
    "cursor.execute(insert_employee_2)"
   ],
   "metadata": {
    "collapsed": false,
    "pycharm": {
     "name": "#%%\n"
    }
   }
  },
  {
   "cell_type": "code",
   "execution_count": 38,
   "outputs": [],
   "source": [
    "conn.commit()\n"
   ],
   "metadata": {
    "collapsed": false,
    "pycharm": {
     "name": "#%%\n"
    }
   }
  },
  {
   "cell_type": "code",
   "execution_count": 41,
   "outputs": [
    {
     "name": "stdout",
     "output_type": "stream",
     "text": [
      "[('milo', 'espitia', 26, 'M', 10000.0), ('Ruben', 'Espitia', 28, 'M', 20000.0)]\n"
     ]
    }
   ],
   "source": [
    "select = 'SELECT * FROM employee'\n",
    "\n",
    "cursor.execute(select)\n",
    "result = cursor.fetchall()\n",
    "print(result)"
   ],
   "metadata": {
    "collapsed": false,
    "pycharm": {
     "name": "#%%\n"
    }
   }
  },
  {
   "cell_type": "code",
   "execution_count": 43,
   "outputs": [
    {
     "data": {
      "text/plain": "  first_name last_name  age sex   income\n0       milo   espitia   26   M  10000.0\n1      Ruben   Espitia   28   M  20000.0",
      "text/html": "<div>\n<style scoped>\n    .dataframe tbody tr th:only-of-type {\n        vertical-align: middle;\n    }\n\n    .dataframe tbody tr th {\n        vertical-align: top;\n    }\n\n    .dataframe thead th {\n        text-align: right;\n    }\n</style>\n<table border=\"1\" class=\"dataframe\">\n  <thead>\n    <tr style=\"text-align: right;\">\n      <th></th>\n      <th>first_name</th>\n      <th>last_name</th>\n      <th>age</th>\n      <th>sex</th>\n      <th>income</th>\n    </tr>\n  </thead>\n  <tbody>\n    <tr>\n      <th>0</th>\n      <td>milo</td>\n      <td>espitia</td>\n      <td>26</td>\n      <td>M</td>\n      <td>10000.0</td>\n    </tr>\n    <tr>\n      <th>1</th>\n      <td>Ruben</td>\n      <td>Espitia</td>\n      <td>28</td>\n      <td>M</td>\n      <td>20000.0</td>\n    </tr>\n  </tbody>\n</table>\n</div>"
     },
     "execution_count": 43,
     "metadata": {},
     "output_type": "execute_result"
    }
   ],
   "source": [
    "database_connection = create_engine(\"sqlite:///example.db\")\n",
    "df = pd.read_sql_query('SELECT * FROM employee',database_connection)\n",
    "df"
   ],
   "metadata": {
    "collapsed": false,
    "pycharm": {
     "name": "#%%\n"
    }
   }
  },
  {
   "cell_type": "code",
   "execution_count": 44,
   "outputs": [
    {
     "data": {
      "text/plain": "<sqlite3.Cursor at 0x11fa762d0>"
     },
     "execution_count": 44,
     "metadata": {},
     "output_type": "execute_result"
    }
   ],
   "source": [
    "update = '''UPDATE employee SET age = 29 WHERE sex = 'M' '''\n",
    "cursor.execute(update)"
   ],
   "metadata": {
    "collapsed": false,
    "pycharm": {
     "name": "#%%\n"
    }
   }
  },
  {
   "cell_type": "code",
   "execution_count": 50,
   "outputs": [],
   "source": [
    "client = MongoClient()\n",
    "db = client.test\n",
    "employee = db.employee"
   ],
   "metadata": {
    "collapsed": false,
    "pycharm": {
     "name": "#%%\n"
    }
   }
  },
  {
   "cell_type": "code",
   "execution_count": null,
   "outputs": [],
   "source": [
    "employee_detail = {\n",
    "    'Name':'Milo Espitia',\n",
    "    'Address': 'Sears Street, NZ',\n",
    "    'Age': '28'\n",
    "}\n",
    "\n",
    "result = employee.insert_one(employee_detail)\n"
   ],
   "metadata": {
    "collapsed": false,
    "pycharm": {
     "name": "#%%\n"
    }
   }
  },
  {
   "cell_type": "code",
   "execution_count": null,
   "outputs": [],
   "source": [
    "employee.update_one(\n",
    "    {'Age':'28'},\n",
    "    {'$set':{\n",
    "        'Name': 'Camilo Espitia',\n",
    "        'Age' : '30'\n",
    "    }\n",
    "    }\n",
    ")"
   ],
   "metadata": {
    "collapsed": false,
    "pycharm": {
     "name": "#%%\n"
    }
   }
  }
 ],
 "metadata": {
  "kernelspec": {
   "display_name": "PyCharm (repos)",
   "language": "python",
   "name": "pycharm-b3fc08b4"
  },
  "language_info": {
   "codemirror_mode": {
    "name": "ipython",
    "version": 3
   },
   "file_extension": ".py",
   "mimetype": "text/x-python",
   "name": "python",
   "nbconvert_exporter": "python",
   "pygments_lexer": "ipython3",
   "version": "3.8.6"
  }
 },
 "nbformat": 4,
 "nbformat_minor": 4
}