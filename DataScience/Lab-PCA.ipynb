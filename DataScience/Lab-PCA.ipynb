{
 "cells": [
  {
   "cell_type": "code",
   "execution_count": 33,
   "metadata": {
    "collapsed": true
   },
   "outputs": [],
   "source": [
    "import pandas as pd\n",
    "from sklearn.decomposition import PCA"
   ]
  },
  {
   "cell_type": "code",
   "execution_count": 34,
   "outputs": [
    {
     "data": {
      "text/plain": "   sepal length  sepal with  petal length  petal width       target\n0           5.1         3.5           1.4          0.2  Iris-setosa\n1           4.9         3.0           1.4          0.2  Iris-setosa\n2           4.7         3.2           1.3          0.2  Iris-setosa\n3           4.6         3.1           1.5          0.2  Iris-setosa\n4           5.0         3.6           1.4          0.2  Iris-setosa",
      "text/html": "<div>\n<style scoped>\n    .dataframe tbody tr th:only-of-type {\n        vertical-align: middle;\n    }\n\n    .dataframe tbody tr th {\n        vertical-align: top;\n    }\n\n    .dataframe thead th {\n        text-align: right;\n    }\n</style>\n<table border=\"1\" class=\"dataframe\">\n  <thead>\n    <tr style=\"text-align: right;\">\n      <th></th>\n      <th>sepal length</th>\n      <th>sepal with</th>\n      <th>petal length</th>\n      <th>petal width</th>\n      <th>target</th>\n    </tr>\n  </thead>\n  <tbody>\n    <tr>\n      <th>0</th>\n      <td>5.1</td>\n      <td>3.5</td>\n      <td>1.4</td>\n      <td>0.2</td>\n      <td>Iris-setosa</td>\n    </tr>\n    <tr>\n      <th>1</th>\n      <td>4.9</td>\n      <td>3.0</td>\n      <td>1.4</td>\n      <td>0.2</td>\n      <td>Iris-setosa</td>\n    </tr>\n    <tr>\n      <th>2</th>\n      <td>4.7</td>\n      <td>3.2</td>\n      <td>1.3</td>\n      <td>0.2</td>\n      <td>Iris-setosa</td>\n    </tr>\n    <tr>\n      <th>3</th>\n      <td>4.6</td>\n      <td>3.1</td>\n      <td>1.5</td>\n      <td>0.2</td>\n      <td>Iris-setosa</td>\n    </tr>\n    <tr>\n      <th>4</th>\n      <td>5.0</td>\n      <td>3.6</td>\n      <td>1.4</td>\n      <td>0.2</td>\n      <td>Iris-setosa</td>\n    </tr>\n  </tbody>\n</table>\n</div>"
     },
     "execution_count": 34,
     "metadata": {},
     "output_type": "execute_result"
    }
   ],
   "source": [
    "URL = \"https://archive.ics.uci.edu/ml/machine-learning-databases/iris/iris.data\"\n",
    "column_names = ['sepal length', 'sepal with', 'petal length', 'petal width', 'target']\n",
    "df = pd.read_csv(URL, names=column_names)\n",
    "df.head(5)"
   ],
   "metadata": {
    "collapsed": false,
    "pycharm": {
     "name": "#%%\n"
    }
   }
  },
  {
   "cell_type": "code",
   "execution_count": 35,
   "outputs": [
    {
     "name": "stdout",
     "output_type": "stream",
     "text": [
      "Features values : \n",
      "[[5.1 3.5 1.4 0.2]\n",
      " [4.9 3.  1.4 0.2]\n",
      " [4.7 3.2 1.3 0.2]]\n",
      "Target : \n",
      "[['Iris-setosa']\n",
      " ['Iris-setosa']\n",
      " ['Iris-setosa']]\n"
     ]
    }
   ],
   "source": [
    "features = ['sepal length', 'sepal with', 'petal length', 'petal width']\n",
    "x = df.loc[:, features].values\n",
    "y = df.loc[:,['target']].values\n",
    "print('Features values : ')\n",
    "print(x[:3])\n",
    "print('Target : ')\n",
    "print(y[:3])"
   ],
   "metadata": {
    "collapsed": false,
    "pycharm": {
     "name": "#%%\n"
    }
   }
  },
  {
   "cell_type": "code",
   "execution_count": 36,
   "outputs": [
    {
     "data": {
      "text/plain": "array([[-2.68420713,  0.32660731],\n       [-2.71539062, -0.16955685],\n       [-2.88981954, -0.13734561]])"
     },
     "execution_count": 36,
     "metadata": {},
     "output_type": "execute_result"
    }
   ],
   "source": [
    "n_components = 2\n",
    "pca = PCA(n_components)\n",
    "principalComponents = pca.fit_transform(x)\n",
    "principalComponents[:3]"
   ],
   "metadata": {
    "collapsed": false,
    "pycharm": {
     "name": "#%%\n"
    }
   }
  },
  {
   "cell_type": "code",
   "execution_count": 37,
   "outputs": [
    {
     "data": {
      "text/plain": "     principal component 1  principal component 2\n0                -2.684207               0.326607\n1                -2.715391              -0.169557\n2                -2.889820              -0.137346\n3                -2.746437              -0.311124\n4                -2.728593               0.333925\n..                     ...                    ...\n145               1.944017               0.187415\n146               1.525664              -0.375021\n147               1.764046               0.078519\n148               1.901629               0.115877\n149               1.389666              -0.282887\n\n[150 rows x 2 columns]",
      "text/html": "<div>\n<style scoped>\n    .dataframe tbody tr th:only-of-type {\n        vertical-align: middle;\n    }\n\n    .dataframe tbody tr th {\n        vertical-align: top;\n    }\n\n    .dataframe thead th {\n        text-align: right;\n    }\n</style>\n<table border=\"1\" class=\"dataframe\">\n  <thead>\n    <tr style=\"text-align: right;\">\n      <th></th>\n      <th>principal component 1</th>\n      <th>principal component 2</th>\n    </tr>\n  </thead>\n  <tbody>\n    <tr>\n      <th>0</th>\n      <td>-2.684207</td>\n      <td>0.326607</td>\n    </tr>\n    <tr>\n      <th>1</th>\n      <td>-2.715391</td>\n      <td>-0.169557</td>\n    </tr>\n    <tr>\n      <th>2</th>\n      <td>-2.889820</td>\n      <td>-0.137346</td>\n    </tr>\n    <tr>\n      <th>3</th>\n      <td>-2.746437</td>\n      <td>-0.311124</td>\n    </tr>\n    <tr>\n      <th>4</th>\n      <td>-2.728593</td>\n      <td>0.333925</td>\n    </tr>\n    <tr>\n      <th>...</th>\n      <td>...</td>\n      <td>...</td>\n    </tr>\n    <tr>\n      <th>145</th>\n      <td>1.944017</td>\n      <td>0.187415</td>\n    </tr>\n    <tr>\n      <th>146</th>\n      <td>1.525664</td>\n      <td>-0.375021</td>\n    </tr>\n    <tr>\n      <th>147</th>\n      <td>1.764046</td>\n      <td>0.078519</td>\n    </tr>\n    <tr>\n      <th>148</th>\n      <td>1.901629</td>\n      <td>0.115877</td>\n    </tr>\n    <tr>\n      <th>149</th>\n      <td>1.389666</td>\n      <td>-0.282887</td>\n    </tr>\n  </tbody>\n</table>\n<p>150 rows × 2 columns</p>\n</div>"
     },
     "execution_count": 37,
     "metadata": {},
     "output_type": "execute_result"
    }
   ],
   "source": [
    "principalDF = pd.DataFrame(data=principalComponents, columns= ['principal component 1', 'principal component 2'])\n",
    "principalDF"
   ],
   "metadata": {
    "collapsed": false,
    "pycharm": {
     "name": "#%%\n"
    }
   }
  },
  {
   "cell_type": "code",
   "execution_count": 22,
   "outputs": [
    {
     "name": "stdout",
     "output_type": "stream",
     "text": [
      "[0.92461621 0.05301557]\n"
     ]
    }
   ],
   "source": [
    "retained_variation = pca.explained_variance_ratio_\n",
    "print(retained_variation)"
   ],
   "metadata": {
    "collapsed": false,
    "pycharm": {
     "name": "#%%\n"
    }
   }
  }
 ],
 "metadata": {
  "kernelspec": {
   "display_name": "Python 3",
   "language": "python",
   "name": "python3"
  },
  "language_info": {
   "codemirror_mode": {
    "name": "ipython",
    "version": 2
   },
   "file_extension": ".py",
   "mimetype": "text/x-python",
   "name": "python",
   "nbconvert_exporter": "python",
   "pygments_lexer": "ipython2",
   "version": "2.7.6"
  }
 },
 "nbformat": 4,
 "nbformat_minor": 0
}