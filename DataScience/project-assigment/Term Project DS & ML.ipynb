{
 "cells": [
  {
   "cell_type": "markdown",
   "metadata": {},
   "source": [
    "<h1><center>Assignment 1</center></h1>\n",
    "<h1><center>Class: AML 1104_2</center></h1>\n",
    "<h1><center>Data Science and Machine Learning in Canada</center></h1><br><br><br><br><br><br><br><br><br>\n",
    "<h1><center>Instructor: Mohammad Islam</center></h1>\n",
    "<h1><center>Submitted By</center></h1>\n",
    "<h1><center>Camilo Espitia (C0785089)</center>\n",
    "<h1><center>Deval Arora (C0787539)</center>\n",
    "<h1><center>Jonatas Aguiar (C0790419)</center>\n",
    "<h1><center>Saurabh Deswal (C0787134)</center><br><br><br><br><br><br>\n",
    "<h1><center>Lambton College In Toronto</center></h1>\n",
    "<h1><center>17 December 2020</center></h1>"
   ]
  },
  {
   "cell_type": "markdown",
   "metadata": {},
   "source": [
    "### Aim: Conduct an exploratory data analysis of UCI Machine Learning data set. Use supervised and unsupervised methods. "
   ]
  },
  {
   "cell_type": "markdown",
   "metadata": {},
   "source": [
    "* **Data preprocessing:**\n",
    "    1. Load the data set into a data frame\n",
    "    2. Are there any missing values in the dataset? How to handle that.\n",
    "    3. Use feature selection and pruning techniques."
   ]
  },
  {
   "cell_type": "markdown",
   "metadata": {},
   "source": [
    "* **Data visualization:**\n",
    "    1. Use Data visualization techniques to plot in graphs.\n",
    "    2. Use a measure of central tendency for each feature.\n",
    "    3. Show the dispersion (standard deviation and IQR) of features."
   ]
  },
  {
   "cell_type": "markdown",
   "metadata": {},
   "source": [
    "* **Supervised learning:**\n",
    "    1. Explore random split of data as test and training set using Python.\n",
    "    2. Use the training data set to train the classification model.\n",
    "    3. Observe the performance of the model with test data set.\n",
    "    4. Create a confusion matrix to present the result."
   ]
  },
  {
   "cell_type": "markdown",
   "metadata": {},
   "source": [
    "* **Unsupervised learning:**\n",
    "    1. Use K-means algorithm to find out cluster from the data set.\n",
    "    2. Try different number of clusters to compare the results."
   ]
  },
  {
   "cell_type": "markdown",
   "metadata": {},
   "source": [
    "## Data Loading & Inspection"
   ]
  },
  {
   "cell_type": "markdown",
   "metadata": {},
   "source": [
    "**Context**\n",
    "\n",
    "This database contains 76 attributes, but all published experiments refer to using a subset of 14 of them. In particular, the Cleveland database is the only one that has been used by ML researchers to\n",
    "this date. The \"goal\" field refers to the presence of heart disease in the patient. It is integer valued from 0 (no presence) to 4.\n",
    "\n",
    "---\n",
    "\n",
    "\n",
    "\n",
    "**Content**\n",
    "\n",
    "Attribute Information:\n",
    "\n",
    "1. age\n",
    "2. sex (0 - female, 1 - male)\n",
    "3. chest pain type (4 values)\n",
    "4. resting blood pressure\n",
    "5. serum cholestoral in mg/dl\n",
    "6. fasting blood sugar > 120 mg/dl\n",
    "7. resting electrocardiographic results (values 0,1,2)\n",
    "8. maximum heart rate achieved\n",
    "9. exercise induced angina\n",
    "10. oldpeak = ST depression induced by exercise relative to rest\n",
    "11. the slope of the peak exercise ST segment\n",
    "12. number of major vessels (0-3) colored by flourosopy\n",
    "13. thal: 3 = normal; 6 = fixed defect; 7 = reversable defect\n",
    "14. target variable (0 - 4, we will be treating as severity of heart disease)"
   ]
  },
  {
   "cell_type": "markdown",
   "metadata": {},
   "source": [
    "### Part 1: Data Preprocessing [saurabh]"
   ]
  },
  {
   "cell_type": "code",
   "execution_count": 1,
   "metadata": {},
   "outputs": [],
   "source": [
    "#import required libraries\n",
    "import warnings\n",
    "import numpy as np\n",
    "import pandas as pd\n",
    "import seaborn as sns\n",
    "from matplotlib import pyplot as plt\n",
    "from sklearn.metrics import accuracy_score, confusion_matrix\n",
    "from sklearn.model_selection import train_test_split\n",
    "from sklearn.tree import DecisionTreeClassifier\n",
    "\n",
    "sns.set()   # Set the style for graphs\n",
    "warnings.filterwarnings('ignore')   # Ignore all warnings\n",
    "\n",
    "%matplotlib inline"
   ]
  },
  {
   "cell_type": "code",
   "execution_count": 3,
   "metadata": {},
   "outputs": [],
   "source": [
    "#Loading the dataset using pandas\n",
    "# df = pd.read_csv('cleveland_copy.csv', header=None)\n",
    "df = pd.read_csv('cleveland_copy.csv')"
   ]
  },
  {
   "cell_type": "code",
   "execution_count": 4,
   "metadata": {},
   "outputs": [],
   "source": [
    "#Adding Column names to our pandas dataframe\n",
    "df.columns = ['age', 'sex', 'chestpain', 'restbps', 'chol', 'fbs', 'restecg', \n",
    "                'thalach', 'exang', 'oldpeak', 'slope', 'ca','thal', 'target']"
   ]
  },
  {
   "cell_type": "code",
   "execution_count": 5,
   "metadata": {},
   "outputs": [
    {
     "data": {
      "text/html": [
       "<div>\n",
       "<style scoped>\n",
       "    .dataframe tbody tr th:only-of-type {\n",
       "        vertical-align: middle;\n",
       "    }\n",
       "\n",
       "    .dataframe tbody tr th {\n",
       "        vertical-align: top;\n",
       "    }\n",
       "\n",
       "    .dataframe thead th {\n",
       "        text-align: right;\n",
       "    }\n",
       "</style>\n",
       "<table border=\"1\" class=\"dataframe\">\n",
       "  <thead>\n",
       "    <tr style=\"text-align: right;\">\n",
       "      <th></th>\n",
       "      <th>age</th>\n",
       "      <th>sex</th>\n",
       "      <th>chestpain</th>\n",
       "      <th>restbps</th>\n",
       "      <th>chol</th>\n",
       "      <th>fbs</th>\n",
       "      <th>restecg</th>\n",
       "      <th>thalach</th>\n",
       "      <th>exang</th>\n",
       "      <th>oldpeak</th>\n",
       "      <th>slope</th>\n",
       "      <th>ca</th>\n",
       "      <th>thal</th>\n",
       "      <th>target</th>\n",
       "    </tr>\n",
       "  </thead>\n",
       "  <tbody>\n",
       "    <tr>\n",
       "      <th>0</th>\n",
       "      <td>67</td>\n",
       "      <td>1</td>\n",
       "      <td>4</td>\n",
       "      <td>160</td>\n",
       "      <td>286</td>\n",
       "      <td>0</td>\n",
       "      <td>2</td>\n",
       "      <td>108</td>\n",
       "      <td>1</td>\n",
       "      <td>1.5</td>\n",
       "      <td>2</td>\n",
       "      <td>3.0</td>\n",
       "      <td>3.0</td>\n",
       "      <td>2</td>\n",
       "    </tr>\n",
       "    <tr>\n",
       "      <th>1</th>\n",
       "      <td>67</td>\n",
       "      <td>1</td>\n",
       "      <td>4</td>\n",
       "      <td>120</td>\n",
       "      <td>229</td>\n",
       "      <td>0</td>\n",
       "      <td>2</td>\n",
       "      <td>129</td>\n",
       "      <td>1</td>\n",
       "      <td>2.6</td>\n",
       "      <td>2</td>\n",
       "      <td>2.0</td>\n",
       "      <td>7.0</td>\n",
       "      <td>1</td>\n",
       "    </tr>\n",
       "    <tr>\n",
       "      <th>2</th>\n",
       "      <td>37</td>\n",
       "      <td>1</td>\n",
       "      <td>3</td>\n",
       "      <td>130</td>\n",
       "      <td>250</td>\n",
       "      <td>0</td>\n",
       "      <td>0</td>\n",
       "      <td>187</td>\n",
       "      <td>0</td>\n",
       "      <td>3.5</td>\n",
       "      <td>3</td>\n",
       "      <td>0.0</td>\n",
       "      <td>3.0</td>\n",
       "      <td>0</td>\n",
       "    </tr>\n",
       "    <tr>\n",
       "      <th>3</th>\n",
       "      <td>41</td>\n",
       "      <td>0</td>\n",
       "      <td>2</td>\n",
       "      <td>130</td>\n",
       "      <td>204</td>\n",
       "      <td>0</td>\n",
       "      <td>2</td>\n",
       "      <td>172</td>\n",
       "      <td>0</td>\n",
       "      <td>1.4</td>\n",
       "      <td>1</td>\n",
       "      <td>0.0</td>\n",
       "      <td>3.0</td>\n",
       "      <td>0</td>\n",
       "    </tr>\n",
       "    <tr>\n",
       "      <th>4</th>\n",
       "      <td>56</td>\n",
       "      <td>1</td>\n",
       "      <td>2</td>\n",
       "      <td>120</td>\n",
       "      <td>236</td>\n",
       "      <td>0</td>\n",
       "      <td>0</td>\n",
       "      <td>178</td>\n",
       "      <td>0</td>\n",
       "      <td>0.8</td>\n",
       "      <td>1</td>\n",
       "      <td>0.0</td>\n",
       "      <td>3.0</td>\n",
       "      <td>0</td>\n",
       "    </tr>\n",
       "  </tbody>\n",
       "</table>\n",
       "</div>"
      ],
      "text/plain": [
       "   age  sex  chestpain  restbps  chol  fbs  restecg  thalach  exang  oldpeak  \\\n",
       "0   67    1          4      160   286    0        2      108      1      1.5   \n",
       "1   67    1          4      120   229    0        2      129      1      2.6   \n",
       "2   37    1          3      130   250    0        0      187      0      3.5   \n",
       "3   41    0          2      130   204    0        2      172      0      1.4   \n",
       "4   56    1          2      120   236    0        0      178      0      0.8   \n",
       "\n",
       "   slope   ca  thal  target  \n",
       "0      2  3.0   3.0       2  \n",
       "1      2  2.0   7.0       1  \n",
       "2      3  0.0   3.0       0  \n",
       "3      1  0.0   3.0       0  \n",
       "4      1  0.0   3.0       0  "
      ]
     },
     "execution_count": 5,
     "metadata": {},
     "output_type": "execute_result"
    }
   ],
   "source": [
    "#Returns top 5 rows of our dataset\n",
    "df.head()"
   ]
  },
  {
   "cell_type": "code",
   "execution_count": 6,
   "metadata": {},
   "outputs": [
    {
     "name": "stdout",
     "output_type": "stream",
     "text": [
      "<class 'pandas.core.frame.DataFrame'>\n",
      "RangeIndex: 302 entries, 0 to 301\n",
      "Data columns (total 14 columns):\n",
      " #   Column     Non-Null Count  Dtype  \n",
      "---  ------     --------------  -----  \n",
      " 0   age        302 non-null    int64  \n",
      " 1   sex        302 non-null    int64  \n",
      " 2   chestpain  302 non-null    int64  \n",
      " 3   restbps    302 non-null    int64  \n",
      " 4   chol       302 non-null    int64  \n",
      " 5   fbs        302 non-null    int64  \n",
      " 6   restecg    302 non-null    int64  \n",
      " 7   thalach    302 non-null    int64  \n",
      " 8   exang      302 non-null    int64  \n",
      " 9   oldpeak    302 non-null    float64\n",
      " 10  slope      302 non-null    int64  \n",
      " 11  ca         298 non-null    float64\n",
      " 12  thal       300 non-null    float64\n",
      " 13  target     302 non-null    int64  \n",
      "dtypes: float64(3), int64(11)\n",
      "memory usage: 33.2 KB\n"
     ]
    }
   ],
   "source": [
    "#provides the information about the dataset\n",
    "df.info()"
   ]
  },
  {
   "cell_type": "code",
   "execution_count": 7,
   "metadata": {},
   "outputs": [
    {
     "data": {
      "text/plain": [
       "array([ 3.,  2.,  0.,  1., nan])"
      ]
     },
     "execution_count": 7,
     "metadata": {},
     "output_type": "execute_result"
    }
   ],
   "source": [
    "df.ca.unique()"
   ]
  },
  {
   "cell_type": "code",
   "execution_count": 8,
   "metadata": {},
   "outputs": [
    {
     "data": {
      "text/html": [
       "<div>\n",
       "<style scoped>\n",
       "    .dataframe tbody tr th:only-of-type {\n",
       "        vertical-align: middle;\n",
       "    }\n",
       "\n",
       "    .dataframe tbody tr th {\n",
       "        vertical-align: top;\n",
       "    }\n",
       "\n",
       "    .dataframe thead th {\n",
       "        text-align: right;\n",
       "    }\n",
       "</style>\n",
       "<table border=\"1\" class=\"dataframe\">\n",
       "  <thead>\n",
       "    <tr style=\"text-align: right;\">\n",
       "      <th></th>\n",
       "      <th>count</th>\n",
       "      <th>mean</th>\n",
       "      <th>std</th>\n",
       "      <th>min</th>\n",
       "      <th>25%</th>\n",
       "      <th>50%</th>\n",
       "      <th>75%</th>\n",
       "      <th>max</th>\n",
       "    </tr>\n",
       "  </thead>\n",
       "  <tbody>\n",
       "    <tr>\n",
       "      <th>age</th>\n",
       "      <td>302.0</td>\n",
       "      <td>54.410596</td>\n",
       "      <td>9.040163</td>\n",
       "      <td>29.0</td>\n",
       "      <td>48.00</td>\n",
       "      <td>55.5</td>\n",
       "      <td>61.0</td>\n",
       "      <td>77.0</td>\n",
       "    </tr>\n",
       "    <tr>\n",
       "      <th>sex</th>\n",
       "      <td>302.0</td>\n",
       "      <td>0.678808</td>\n",
       "      <td>0.467709</td>\n",
       "      <td>0.0</td>\n",
       "      <td>0.00</td>\n",
       "      <td>1.0</td>\n",
       "      <td>1.0</td>\n",
       "      <td>1.0</td>\n",
       "    </tr>\n",
       "    <tr>\n",
       "      <th>chestpain</th>\n",
       "      <td>302.0</td>\n",
       "      <td>3.165563</td>\n",
       "      <td>0.953612</td>\n",
       "      <td>1.0</td>\n",
       "      <td>3.00</td>\n",
       "      <td>3.0</td>\n",
       "      <td>4.0</td>\n",
       "      <td>4.0</td>\n",
       "    </tr>\n",
       "    <tr>\n",
       "      <th>restbps</th>\n",
       "      <td>302.0</td>\n",
       "      <td>131.645695</td>\n",
       "      <td>17.612202</td>\n",
       "      <td>94.0</td>\n",
       "      <td>120.00</td>\n",
       "      <td>130.0</td>\n",
       "      <td>140.0</td>\n",
       "      <td>200.0</td>\n",
       "    </tr>\n",
       "    <tr>\n",
       "      <th>chol</th>\n",
       "      <td>302.0</td>\n",
       "      <td>246.738411</td>\n",
       "      <td>51.856829</td>\n",
       "      <td>126.0</td>\n",
       "      <td>211.00</td>\n",
       "      <td>241.5</td>\n",
       "      <td>275.0</td>\n",
       "      <td>564.0</td>\n",
       "    </tr>\n",
       "    <tr>\n",
       "      <th>fbs</th>\n",
       "      <td>302.0</td>\n",
       "      <td>0.145695</td>\n",
       "      <td>0.353386</td>\n",
       "      <td>0.0</td>\n",
       "      <td>0.00</td>\n",
       "      <td>0.0</td>\n",
       "      <td>0.0</td>\n",
       "      <td>1.0</td>\n",
       "    </tr>\n",
       "    <tr>\n",
       "      <th>restecg</th>\n",
       "      <td>302.0</td>\n",
       "      <td>0.986755</td>\n",
       "      <td>0.994916</td>\n",
       "      <td>0.0</td>\n",
       "      <td>0.00</td>\n",
       "      <td>0.5</td>\n",
       "      <td>2.0</td>\n",
       "      <td>2.0</td>\n",
       "    </tr>\n",
       "    <tr>\n",
       "      <th>thalach</th>\n",
       "      <td>302.0</td>\n",
       "      <td>149.605960</td>\n",
       "      <td>22.912959</td>\n",
       "      <td>71.0</td>\n",
       "      <td>133.25</td>\n",
       "      <td>153.0</td>\n",
       "      <td>166.0</td>\n",
       "      <td>202.0</td>\n",
       "    </tr>\n",
       "    <tr>\n",
       "      <th>exang</th>\n",
       "      <td>302.0</td>\n",
       "      <td>0.327815</td>\n",
       "      <td>0.470196</td>\n",
       "      <td>0.0</td>\n",
       "      <td>0.00</td>\n",
       "      <td>0.0</td>\n",
       "      <td>1.0</td>\n",
       "      <td>1.0</td>\n",
       "    </tr>\n",
       "    <tr>\n",
       "      <th>oldpeak</th>\n",
       "      <td>302.0</td>\n",
       "      <td>1.035430</td>\n",
       "      <td>1.160723</td>\n",
       "      <td>0.0</td>\n",
       "      <td>0.00</td>\n",
       "      <td>0.8</td>\n",
       "      <td>1.6</td>\n",
       "      <td>6.2</td>\n",
       "    </tr>\n",
       "    <tr>\n",
       "      <th>slope</th>\n",
       "      <td>302.0</td>\n",
       "      <td>1.596026</td>\n",
       "      <td>0.611939</td>\n",
       "      <td>1.0</td>\n",
       "      <td>1.00</td>\n",
       "      <td>2.0</td>\n",
       "      <td>2.0</td>\n",
       "      <td>3.0</td>\n",
       "    </tr>\n",
       "    <tr>\n",
       "      <th>ca</th>\n",
       "      <td>298.0</td>\n",
       "      <td>0.674497</td>\n",
       "      <td>0.938202</td>\n",
       "      <td>0.0</td>\n",
       "      <td>0.00</td>\n",
       "      <td>0.0</td>\n",
       "      <td>1.0</td>\n",
       "      <td>3.0</td>\n",
       "    </tr>\n",
       "    <tr>\n",
       "      <th>thal</th>\n",
       "      <td>300.0</td>\n",
       "      <td>4.730000</td>\n",
       "      <td>1.941563</td>\n",
       "      <td>3.0</td>\n",
       "      <td>3.00</td>\n",
       "      <td>3.0</td>\n",
       "      <td>7.0</td>\n",
       "      <td>7.0</td>\n",
       "    </tr>\n",
       "    <tr>\n",
       "      <th>target</th>\n",
       "      <td>302.0</td>\n",
       "      <td>0.940397</td>\n",
       "      <td>1.229384</td>\n",
       "      <td>0.0</td>\n",
       "      <td>0.00</td>\n",
       "      <td>0.0</td>\n",
       "      <td>2.0</td>\n",
       "      <td>4.0</td>\n",
       "    </tr>\n",
       "  </tbody>\n",
       "</table>\n",
       "</div>"
      ],
      "text/plain": [
       "           count        mean        std    min     25%    50%    75%    max\n",
       "age        302.0   54.410596   9.040163   29.0   48.00   55.5   61.0   77.0\n",
       "sex        302.0    0.678808   0.467709    0.0    0.00    1.0    1.0    1.0\n",
       "chestpain  302.0    3.165563   0.953612    1.0    3.00    3.0    4.0    4.0\n",
       "restbps    302.0  131.645695  17.612202   94.0  120.00  130.0  140.0  200.0\n",
       "chol       302.0  246.738411  51.856829  126.0  211.00  241.5  275.0  564.0\n",
       "fbs        302.0    0.145695   0.353386    0.0    0.00    0.0    0.0    1.0\n",
       "restecg    302.0    0.986755   0.994916    0.0    0.00    0.5    2.0    2.0\n",
       "thalach    302.0  149.605960  22.912959   71.0  133.25  153.0  166.0  202.0\n",
       "exang      302.0    0.327815   0.470196    0.0    0.00    0.0    1.0    1.0\n",
       "oldpeak    302.0    1.035430   1.160723    0.0    0.00    0.8    1.6    6.2\n",
       "slope      302.0    1.596026   0.611939    1.0    1.00    2.0    2.0    3.0\n",
       "ca         298.0    0.674497   0.938202    0.0    0.00    0.0    1.0    3.0\n",
       "thal       300.0    4.730000   1.941563    3.0    3.00    3.0    7.0    7.0\n",
       "target     302.0    0.940397   1.229384    0.0    0.00    0.0    2.0    4.0"
      ]
     },
     "execution_count": 8,
     "metadata": {},
     "output_type": "execute_result"
    }
   ],
   "source": [
    "#provides deatils description of our dataset\n",
    "df.describe().T   # 'T' is for transpose"
   ]
  },
  {
   "cell_type": "markdown",
   "metadata": {},
   "source": [
    "# Data Cleaning\n",
    "#### Now we will start with cleaning our dataset"
   ]
  },
  {
   "cell_type": "code",
   "execution_count": 9,
   "metadata": {},
   "outputs": [
    {
     "data": {
      "text/plain": [
       "age          0\n",
       "sex          0\n",
       "chestpain    0\n",
       "restbps      0\n",
       "chol         0\n",
       "fbs          0\n",
       "restecg      0\n",
       "thalach      0\n",
       "exang        0\n",
       "oldpeak      0\n",
       "slope        0\n",
       "ca           4\n",
       "thal         2\n",
       "target       0\n",
       "dtype: int64"
      ]
     },
     "execution_count": 9,
     "metadata": {},
     "output_type": "execute_result"
    }
   ],
   "source": [
    "#Checks if there are any null values present in any column of the dataframe\n",
    "#column ca and thal have null values\n",
    "df.isnull().sum()"
   ]
  },
  {
   "cell_type": "code",
   "execution_count": 10,
   "metadata": {},
   "outputs": [],
   "source": [
    "#Create a function to create new columns ca_median and ca_random\n",
    "#ca_median will contain NaN values replaced by the median of ca\n",
    "#ca_random will contain NaN values replaced by a random value of ca selected  from the ca column\n",
    "#The above two techniques are called Median replacement and Random Sample Imputation respectively\n",
    "\n",
    "def impute_nan(df,variable,median):\n",
    "    df[variable+\"_median\"]=df[variable].fillna(median)\n",
    "    df[variable+\"_random\"]=df[variable]\n",
    "    \n",
    "    #find the random value of ca column, keep the random_state fixed so the value remains same in each iteration\n",
    "    random_sample=df[variable].dropna().sample(df[variable].isnull().sum(),random_state=42)\n",
    "    \n",
    "    ##pandas need to have same index in order to merge the dataset\n",
    "    random_sample.index=df[df[variable].isnull()].index\n",
    "    df.loc[df[variable].isnull(),variable+'_random']=random_sample\n",
    "\n",
    "#Calculate the median of ca\n",
    "median=df.ca.median()\n",
    "impute_nan(df,\"ca\",median)"
   ]
  },
  {
   "cell_type": "code",
   "execution_count": 11,
   "metadata": {},
   "outputs": [
    {
     "name": "stdout",
     "output_type": "stream",
     "text": [
      "0.9382019024458484\n",
      "0.9345480852527853\n",
      "0.9351423476211553\n"
     ]
    }
   ],
   "source": [
    "#Take a look at Standart deviation of ca, ca_median and ca_random. \n",
    "#The Standart deviation of ca and ca_random are closest, so we will choose ca_random instead of ca_median\n",
    "\n",
    "print(df['ca'].std())\n",
    "print(df['ca_random'].std())\n",
    "print(df['ca_median'].std())"
   ]
  },
  {
   "cell_type": "code",
   "execution_count": 12,
   "metadata": {},
   "outputs": [
    {
     "data": {
      "text/plain": [
       "<matplotlib.legend.Legend at 0x28bb131d188>"
      ]
     },
     "execution_count": 12,
     "metadata": {},
     "output_type": "execute_result"
    },
    {
     "data": {
      "image/png": "[encoded data removed]",
      "text/plain": [
       "<Figure size 864x432 with 1 Axes>"
      ]
     },
     "metadata": {
      "needs_background": "light"
     },
     "output_type": "display_data"
    }
   ],
   "source": [
    "#Plot the KDE curve for ca, ca_random and ca_median\n",
    "#The curve for ca and ca_random are closest, so we can say ca_random has filled the missing values perfectly\n",
    "\n",
    "fig = plt.figure()\n",
    "ax = fig.add_subplot(111)\n",
    "fig.set_size_inches(12, 6)\n",
    "df.ca.plot(kind='kde', ax=ax,color='black')\n",
    "df.ca_median.plot(kind='kde', ax=ax, color='red')\n",
    "df.ca_random.plot(kind='kde', ax=ax, color='green')\n",
    "lines, labels = ax.get_legend_handles_labels()\n",
    "ax.legend(lines, labels, loc='best')"
   ]
  },
  {
   "cell_type": "code",
   "execution_count": 13,
   "metadata": {},
   "outputs": [
    {
     "data": {
      "text/plain": [
       "age          0\n",
       "sex          0\n",
       "chestpain    0\n",
       "restbps      0\n",
       "chol         0\n",
       "fbs          0\n",
       "restecg      0\n",
       "thalach      0\n",
       "exang        0\n",
       "oldpeak      0\n",
       "slope        0\n",
       "ca           4\n",
       "thal         2\n",
       "target       0\n",
       "ca_median    0\n",
       "ca_random    0\n",
       "dtype: int64"
      ]
     },
     "execution_count": 13,
     "metadata": {},
     "output_type": "execute_result"
    }
   ],
   "source": [
    "df.isnull().sum()"
   ]
  },
  {
   "cell_type": "code",
   "execution_count": 14,
   "metadata": {},
   "outputs": [],
   "source": [
    "#As thal have only two missing values, we can drop it\n",
    "df = df[df['thal'].notna()]"
   ]
  },
  {
   "cell_type": "code",
   "execution_count": 15,
   "metadata": {},
   "outputs": [
    {
     "data": {
      "text/plain": [
       "age          0\n",
       "sex          0\n",
       "chestpain    0\n",
       "restbps      0\n",
       "chol         0\n",
       "fbs          0\n",
       "restecg      0\n",
       "thalach      0\n",
       "exang        0\n",
       "oldpeak      0\n",
       "slope        0\n",
       "ca           4\n",
       "thal         0\n",
       "target       0\n",
       "ca_median    0\n",
       "ca_random    0\n",
       "dtype: int64"
      ]
     },
     "execution_count": 15,
     "metadata": {},
     "output_type": "execute_result"
    }
   ],
   "source": [
    "df.isnull().sum()"
   ]
  },
  {
   "cell_type": "code",
   "execution_count": 16,
   "metadata": {},
   "outputs": [
    {
     "data": {
      "text/plain": [
       "array([3., 2., 0., 1.])"
      ]
     },
     "execution_count": 16,
     "metadata": {},
     "output_type": "execute_result"
    }
   ],
   "source": [
    "df.ca_median.unique()"
   ]
  },
  {
   "cell_type": "code",
   "execution_count": 17,
   "metadata": {},
   "outputs": [],
   "source": [
    "#dropping the ca and ca_median column as we have created a new feature ca_random\n",
    "df.drop(['ca_median'], axis=1,inplace=True)\n",
    "df.drop(['ca'], axis=1,inplace=True)"
   ]
  },
  {
   "cell_type": "code",
   "execution_count": 18,
   "metadata": {},
   "outputs": [
    {
     "data": {
      "text/plain": [
       "array([3., 2., 0., 1.])"
      ]
     },
     "execution_count": 18,
     "metadata": {},
     "output_type": "execute_result"
    }
   ],
   "source": [
    "df.ca_random.unique()"
   ]
  },
  {
   "cell_type": "code",
   "execution_count": 19,
   "metadata": {},
   "outputs": [
    {
     "data": {
      "text/html": [
       "<div>\n",
       "<style scoped>\n",
       "    .dataframe tbody tr th:only-of-type {\n",
       "        vertical-align: middle;\n",
       "    }\n",
       "\n",
       "    .dataframe tbody tr th {\n",
       "        vertical-align: top;\n",
       "    }\n",
       "\n",
       "    .dataframe thead th {\n",
       "        text-align: right;\n",
       "    }\n",
       "</style>\n",
       "<table border=\"1\" class=\"dataframe\">\n",
       "  <thead>\n",
       "    <tr style=\"text-align: right;\">\n",
       "      <th></th>\n",
       "      <th>age</th>\n",
       "      <th>sex</th>\n",
       "      <th>chestpain</th>\n",
       "      <th>restbps</th>\n",
       "      <th>chol</th>\n",
       "      <th>fbs</th>\n",
       "      <th>restecg</th>\n",
       "      <th>thalach</th>\n",
       "      <th>exang</th>\n",
       "      <th>oldpeak</th>\n",
       "      <th>slope</th>\n",
       "      <th>thal</th>\n",
       "      <th>target</th>\n",
       "      <th>ca_random</th>\n",
       "    </tr>\n",
       "  </thead>\n",
       "  <tbody>\n",
       "    <tr>\n",
       "      <th>0</th>\n",
       "      <td>67</td>\n",
       "      <td>1</td>\n",
       "      <td>4</td>\n",
       "      <td>160</td>\n",
       "      <td>286</td>\n",
       "      <td>0</td>\n",
       "      <td>2</td>\n",
       "      <td>108</td>\n",
       "      <td>1</td>\n",
       "      <td>1.5</td>\n",
       "      <td>2</td>\n",
       "      <td>3.0</td>\n",
       "      <td>2</td>\n",
       "      <td>3.0</td>\n",
       "    </tr>\n",
       "    <tr>\n",
       "      <th>1</th>\n",
       "      <td>67</td>\n",
       "      <td>1</td>\n",
       "      <td>4</td>\n",
       "      <td>120</td>\n",
       "      <td>229</td>\n",
       "      <td>0</td>\n",
       "      <td>2</td>\n",
       "      <td>129</td>\n",
       "      <td>1</td>\n",
       "      <td>2.6</td>\n",
       "      <td>2</td>\n",
       "      <td>7.0</td>\n",
       "      <td>1</td>\n",
       "      <td>2.0</td>\n",
       "    </tr>\n",
       "    <tr>\n",
       "      <th>2</th>\n",
       "      <td>37</td>\n",
       "      <td>1</td>\n",
       "      <td>3</td>\n",
       "      <td>130</td>\n",
       "      <td>250</td>\n",
       "      <td>0</td>\n",
       "      <td>0</td>\n",
       "      <td>187</td>\n",
       "      <td>0</td>\n",
       "      <td>3.5</td>\n",
       "      <td>3</td>\n",
       "      <td>3.0</td>\n",
       "      <td>0</td>\n",
       "      <td>0.0</td>\n",
       "    </tr>\n",
       "    <tr>\n",
       "      <th>3</th>\n",
       "      <td>41</td>\n",
       "      <td>0</td>\n",
       "      <td>2</td>\n",
       "      <td>130</td>\n",
       "      <td>204</td>\n",
       "      <td>0</td>\n",
       "      <td>2</td>\n",
       "      <td>172</td>\n",
       "      <td>0</td>\n",
       "      <td>1.4</td>\n",
       "      <td>1</td>\n",
       "      <td>3.0</td>\n",
       "      <td>0</td>\n",
       "      <td>0.0</td>\n",
       "    </tr>\n",
       "    <tr>\n",
       "      <th>4</th>\n",
       "      <td>56</td>\n",
       "      <td>1</td>\n",
       "      <td>2</td>\n",
       "      <td>120</td>\n",
       "      <td>236</td>\n",
       "      <td>0</td>\n",
       "      <td>0</td>\n",
       "      <td>178</td>\n",
       "      <td>0</td>\n",
       "      <td>0.8</td>\n",
       "      <td>1</td>\n",
       "      <td>3.0</td>\n",
       "      <td>0</td>\n",
       "      <td>0.0</td>\n",
       "    </tr>\n",
       "  </tbody>\n",
       "</table>\n",
       "</div>"
      ],
      "text/plain": [
       "   age  sex  chestpain  restbps  chol  fbs  restecg  thalach  exang  oldpeak  \\\n",
       "0   67    1          4      160   286    0        2      108      1      1.5   \n",
       "1   67    1          4      120   229    0        2      129      1      2.6   \n",
       "2   37    1          3      130   250    0        0      187      0      3.5   \n",
       "3   41    0          2      130   204    0        2      172      0      1.4   \n",
       "4   56    1          2      120   236    0        0      178      0      0.8   \n",
       "\n",
       "   slope  thal  target  ca_random  \n",
       "0      2   3.0       2        3.0  \n",
       "1      2   7.0       1        2.0  \n",
       "2      3   3.0       0        0.0  \n",
       "3      1   3.0       0        0.0  \n",
       "4      1   3.0       0        0.0  "
      ]
     },
     "execution_count": 19,
     "metadata": {},
     "output_type": "execute_result"
    }
   ],
   "source": [
    "df.head()"
   ]
  },
  {
   "cell_type": "code",
   "execution_count": 20,
   "metadata": {},
   "outputs": [
    {
     "name": "stdout",
     "output_type": "stream",
     "text": [
      "<class 'pandas.core.frame.DataFrame'>\n",
      "Int64Index: 300 entries, 0 to 301\n",
      "Data columns (total 14 columns):\n",
      " #   Column     Non-Null Count  Dtype  \n",
      "---  ------     --------------  -----  \n",
      " 0   age        300 non-null    int64  \n",
      " 1   sex        300 non-null    int64  \n",
      " 2   chestpain  300 non-null    int64  \n",
      " 3   restbps    300 non-null    int64  \n",
      " 4   chol       300 non-null    int64  \n",
      " 5   fbs        300 non-null    int64  \n",
      " 6   restecg    300 non-null    int64  \n",
      " 7   thalach    300 non-null    int64  \n",
      " 8   exang      300 non-null    int64  \n",
      " 9   oldpeak    300 non-null    float64\n",
      " 10  slope      300 non-null    int64  \n",
      " 11  thal       300 non-null    float64\n",
      " 12  target     300 non-null    int64  \n",
      " 13  ca_random  300 non-null    float64\n",
      "dtypes: float64(3), int64(11)\n",
      "memory usage: 35.2 KB\n"
     ]
    }
   ],
   "source": [
    "#Now we can see we donot have any missing values\n",
    "df.info()"
   ]
  },
  {
   "cell_type": "markdown",
   "metadata": {},
   "source": [
    "# Feature Selection\n",
    "#### Before proceeding further, we will first find out the features that are important for our dataset\n",
    "#### Here we will do feature selection using two simple methods\n",
    "#### 1. Detecting Variance Threshold\n",
    "#### 2. Using ExtraTreesClassifier\n"
   ]
  },
  {
   "cell_type": "code",
   "execution_count": 21,
   "metadata": {},
   "outputs": [],
   "source": [
    "#Splitting the dataset into dependent and non-dependent feature before doing feature selection\n",
    "#to avoid overfitting at later stage\n",
    "#Remember, we will be using X just for our analysis, i.e. feature selection and outlier detection\n",
    "X, y = df.drop(['target'], axis=1), df.target"
   ]
  },
  {
   "cell_type": "code",
   "execution_count": 22,
   "metadata": {},
   "outputs": [
    {
     "name": "stdout",
     "output_type": "stream",
     "text": [
      "['fbs']\n"
     ]
    }
   ],
   "source": [
    "#Feature Selection: Method 1\n",
    "#In variance threshold method, we remove the features having 0 variance as they do not contribute anything to model\n",
    "#Importing the VarianceThreshold library from sklearn and fitting it to our dataset\n",
    "#We found that there are two features having low variance, therefore they add least value to our dataset\n",
    "from sklearn.feature_selection import VarianceThreshold\n",
    "var_thres=VarianceThreshold(threshold=0.2)\n",
    "var_thres.fit(X)\n",
    "\n",
    "var_thres.get_support()\n",
    "X.columns[var_thres.get_support()]\n",
    "\n",
    "#constant_columns will contain all the columns with 0 variance\n",
    "constant_columns = [column for column in X.columns\n",
    "                    if column not in X.columns[var_thres.get_support()]]\n",
    "\n",
    "print((constant_columns))"
   ]
  },
  {
   "cell_type": "code",
   "execution_count": 23,
   "metadata": {},
   "outputs": [
    {
     "name": "stdout",
     "output_type": "stream",
     "text": [
      "ca_random    0.114163\n",
      "thalach      0.112721\n",
      "thal         0.099542\n",
      "oldpeak      0.097607\n",
      "age          0.097577\n",
      "chol         0.094549\n",
      "restbps      0.091957\n",
      "chestpain    0.071405\n",
      "exang        0.058033\n",
      "slope        0.055348\n",
      "restecg      0.043246\n",
      "sex          0.037254\n",
      "fbs          0.026598\n",
      "dtype: float64\n"
     ]
    },
    {
     "data": {
      "image/png": "[encoded data removed]",
      "text/plain": [
       "<Figure size 1080x432 with 1 Axes>"
      ]
     },
     "metadata": {},
     "output_type": "display_data"
    }
   ],
   "source": [
    "#Feature Selection: Method 2\n",
    "#Now, we will use extratrees classisfier to find the feature importance\n",
    "#We are plottinh a horizontal bar graph to visualize which features are important\n",
    "plt.rcParams['figure.figsize']=15,6 \n",
    "sns.set_style(\"darkgrid\")\n",
    "\n",
    "from sklearn.ensemble import ExtraTreesClassifier\n",
    "import matplotlib.pyplot as plt\n",
    "model = ExtraTreesClassifier(random_state=0)\n",
    "model.fit(X,y)\n",
    "\n",
    "#We have sorted the values in descenting order\n",
    "#since the value have rapidly decreased after exang, we will ignore features after exang\n",
    "feat_importances = pd.Series(model.feature_importances_, index=X.columns)\n",
    "print(feat_importances.sort_values(axis=0,ascending=False))\n",
    "feat_importances.nlargest(12).plot(kind='barh')\n",
    "plt.show()"
   ]
  },
  {
   "cell_type": "code",
   "execution_count": 24,
   "metadata": {},
   "outputs": [],
   "source": [
    "#Selecting only the features, selected by ExtraTreesClassifier\n",
    "X=X[['thalach','oldpeak','ca_random','thal','chol','age','restbps','chestpain']]"
   ]
  },
  {
   "cell_type": "markdown",
   "metadata": {},
   "source": [
    "# Detecting Outliers\n",
    "#### After selecting the important features, we need to search for outliers in our data\n",
    "#### Here we will calculate z-score to detect the outliers"
   ]
  },
  {
   "cell_type": "code",
   "execution_count": 25,
   "metadata": {},
   "outputs": [],
   "source": [
    "#Here, we are converting the values of the dataset of every column to a list\n",
    "#This is done to pass the values to the function we are using to calculate the z-score\n",
    "\n",
    "thalach_values=list(X['thalach'])\n",
    "oldpeak_values=list(X['oldpeak'])\n",
    "ca_random_values=list(X['ca_random'])\n",
    "chol_values=list(X['chol'])\n",
    "age_values=list(X['age'])\n",
    "restbps_values=list(X['restbps'])\n",
    "chestpain_values=list(X['chestpain'])\n",
    "thal_values=list(X['thal'])\n"
   ]
  },
  {
   "cell_type": "code",
   "execution_count": 26,
   "metadata": {},
   "outputs": [],
   "source": [
    "#This function will calculate the z-score\n",
    "#Here, we have set the threshold to 3, it means it will tell us all the values which are beyond 3rd standard deviation \n",
    "\n",
    "def detect_outliers(data):\n",
    "    outliers=[]\n",
    "    threshold=3\n",
    "    mean = np.mean(data)\n",
    "    std =np.std(data)\n",
    "    \n",
    "    \n",
    "    for i in data:\n",
    "        z_score= (i - mean)/std \n",
    "        if np.abs(z_score) > threshold:\n",
    "            outliers.append(i)\n",
    "    return outliers"
   ]
  },
  {
   "cell_type": "code",
   "execution_count": 27,
   "metadata": {},
   "outputs": [
    {
     "name": "stdout",
     "output_type": "stream",
     "text": [
      "Outlier values for thalach:  [71]\n",
      "Outlier values for oldpeak:  [6.2, 5.6]\n",
      "Outlier values for ca:  []\n",
      "Outlier values for cholestrol:  [417, 407, 564, 409]\n",
      "Outlier values for age:  []\n",
      "Outlier values for restbps:  [200, 192]\n",
      "Outlier values for chestpain:  []\n",
      "Outlier values for thal:  []\n"
     ]
    }
   ],
   "source": [
    "# For thalach, cholestrol, oldpeak and restbps the z-score shows outlier value, But this are not actually outliers. According to feature selection and \n",
    "# domain knowledge, halach, cholestrol, oldpeak and restbps contributes the most towards heart disease\n",
    "# Therefore, we will not remove any outlier from the dataset\n",
    "\n",
    "out_values_1=detect_outliers(thalach_values)\n",
    "print(\"Outlier values for thalach: \",out_values_1)\n",
    "\n",
    "# For oldpeak, we have 2 outlier values\n",
    "out_values_2=detect_outliers(oldpeak_values)\n",
    "print(\"Outlier values for oldpeak: \",out_values_2)\n",
    "\n",
    "# For ca_random, we have 3 outlier values\n",
    "out_values_3=detect_outliers(ca_random_values)\n",
    "print(\"Outlier values for ca: \",out_values_3)\n",
    "\n",
    "# For chol, we have 4 outlier values\n",
    "out_values_4=detect_outliers(chol_values)\n",
    "print(\"Outlier values for cholestrol: \",out_values_4)\n",
    "\n",
    "# For age, we have 4 outlier values\n",
    "out_values_5=detect_outliers(age_values)\n",
    "print(\"Outlier values for age: \",out_values_5)\n",
    "\n",
    "# For restbps, we have 2 outlier values\n",
    "out_values_6=detect_outliers(restbps_values)\n",
    "print(\"Outlier values for restbps: \",out_values_6)\n",
    "\n",
    "# For chestpain, we have 2 outlier values\n",
    "out_values_7=detect_outliers(chestpain_values)\n",
    "print(\"Outlier values for chestpain: \",out_values_7)\n",
    "\n",
    "# For thal, we have 2 outlier values\n",
    "out_values_8=detect_outliers(thal_values)\n",
    "print(\"Outlier values for thal: \",out_values_8)"
   ]
  },
  {
   "cell_type": "code",
   "execution_count": 28,
   "metadata": {},
   "outputs": [],
   "source": [
    "#Selecting only the features, selected by ExtraTreesClassifier from the main dataframe\n",
    "df=df[['thalach','oldpeak','ca_random','chol','age','restbps','chestpain','thal','target']]"
   ]
  },
  {
   "cell_type": "markdown",
   "metadata": {},
   "source": [
    "### Part 2: Data Visualization [jonatas]"
   ]
  },
  {
   "cell_type": "markdown",
   "metadata": {},
   "source": [
    "### Printing boxplots and measure of central tendency "
   ]
  },
  {
   "cell_type": "code",
   "execution_count": 29,
   "metadata": {},
   "outputs": [
    {
     "data": {
      "image/png": "[encoded data removed]",
      "text/plain": [
       "<Figure size 1080x432 with 1 Axes>"
      ]
     },
     "metadata": {},
     "output_type": "display_data"
    }
   ],
   "source": [
    "# Printing boxplot for attributes age, chol, restbps, and thalach\n",
    "ax = sns.boxplot(data=df[['age','chol','restbps','thalach']], orient=\"h\", palette=\"Set2\",width=0.3)"
   ]
  },
  {
   "cell_type": "code",
   "execution_count": 88,
   "metadata": {},
   "outputs": [
    {
     "data": {
      "image/png": "[encoded data removed]",
      "text/plain": [
       "<Figure size 1080x432 with 1 Axes>"
      ]
     },
     "metadata": {},
     "output_type": "display_data"
    }
   ],
   "source": [
    "# As the attribute oldpeak has a small values range, it will be better visualized if \n",
    "# printed apartfrom the remaining continuous attributes\n",
    "ax = sns.boxplot(data=df['oldpeak'], orient=\"h\", palette=\"Set2\",width=0.3)"
   ]
  },
  {
   "cell_type": "code",
   "execution_count": 90,
   "metadata": {},
   "outputs": [
    {
     "data": {
      "image/png": "[encoded data removed]",
      "text/plain": [
       "<Figure size 2880x576 with 3 Axes>"
      ]
     },
     "metadata": {},
     "output_type": "display_data"
    }
   ],
   "source": [
    "# Printing measure of central tendency for features age, restbps, and cholesterol\n",
    "f, (ax_box, ax_box2, ax_box3) = plt.subplots(1, 3,figsize=(40,8))\n",
    "\n",
    "# --------------age ------------------\n",
    "mean=df['age'].mean()\n",
    "median=df['age'].median()\n",
    "mode=df['age'].mode().tolist()[0]\n",
    "\n",
    "sns.distplot(df[\"age\"], ax=ax_box)\n",
    "ax_box.axvline(mean, color='r', linestyle='--')\n",
    "ax_box.axvline(median, color='g', linestyle='-')\n",
    "ax_box.axvline(mode, color='b', linestyle='-')\n",
    "\n",
    "ax_box.set(xlabel='Age')\n",
    "\n",
    "# ----------- blood pressure -------------\n",
    "mean2=df['restbps'].mean()\n",
    "median2=df['restbps'].median()\n",
    "mode2=df['restbps'].mode().tolist()[0]\n",
    "\n",
    "sns.distplot(df[\"restbps\"], ax=ax_box2)\n",
    "ax_box2.axvline(mean2, color='r', linestyle='--')\n",
    "ax_box2.axvline(median2, color='g', linestyle='-')\n",
    "ax_box2.axvline(mode2, color='b', linestyle='-')\n",
    "\n",
    "ax_box2.set(xlabel='Blood pressure')\n",
    "\n",
    "# -----------------Cholesterol ---------------------\n",
    "mean3=df['chol'].mean()\n",
    "median3=df['chol'].median()\n",
    "mode3=df['chol'].mode().tolist()[0]\n",
    "\n",
    "sns.distplot(df[\"chol\"], ax=ax_box3)\n",
    "ax_box3.axvline(mean3, color='r', linestyle='--')\n",
    "ax_box3.axvline(median3, color='g', linestyle='-')\n",
    "ax_box3.axvline(mode3, color='b', linestyle='-')\n",
    "ax_box3.set(xlabel='Cholesterol')\n",
    "\n",
    "plt.show()"
   ]
  },
  {
   "cell_type": "code",
   "execution_count": 82,
   "metadata": {},
   "outputs": [
    {
     "data": {
      "image/png": "[encoded data removed]",
      "text/plain": [
       "<Figure size 2880x576 with 2 Axes>"
      ]
     },
     "metadata": {},
     "output_type": "display_data"
    }
   ],
   "source": [
    "# Printing measure of central tendency for features thalach, and oldpeak\n",
    "\n",
    "f, (ax_box4,ax_box5) = plt.subplots(1, 2,figsize=(40,8))\n",
    "\n",
    "\n",
    "# ---------------------------------\n",
    "\n",
    "mean4=df['thalach'].mean()\n",
    "median4=df['thalach'].median()\n",
    "mode4=df['thalach'].mode().tolist()[0]\n",
    "\n",
    "sns.distplot(df[\"thalach\"], ax=ax_box4)\n",
    "ax_box4.axvline(mean4, color='r', linestyle='--')\n",
    "ax_box4.axvline(median4, color='g', linestyle='-')\n",
    "ax_box4.axvline(mode4, color='b', linestyle='-')\n",
    "\n",
    "ax_box4.set(xlabel='Maximum heart rate')\n",
    "\n",
    "# --------------ST depression ----------------\n",
    "mean5=df['oldpeak'].mean()\n",
    "median5=df['oldpeak'].median()\n",
    "mode5=df['oldpeak'].mode().tolist()[0]\n",
    "\n",
    "sns.distplot(df[\"oldpeak\"], ax=ax_box5)\n",
    "ax_box5.set_xlim(0,10)\n",
    "ax_box5.axvline(mean5, color='r', linestyle='--')\n",
    "ax_box5.axvline(median5, color='g', linestyle='-')\n",
    "ax_box5.axvline(mode5, color='b', linestyle='-')\n",
    "\n",
    "ax_box5.set(xlabel='ST depression')\n",
    "\n",
    "plt.legend({'Mean':mean,'Median':median,'Mode':mode})\n",
    "\n",
    "plt.show()"
   ]
  },
  {
   "cell_type": "markdown",
   "metadata": {},
   "source": [
    "### Printing histograms of categorical attributtes"
   ]
  },
  {
   "cell_type": "code",
   "execution_count": 39,
   "metadata": {},
   "outputs": [
    {
     "data": {
      "image/png": "[encoded data removed]",
      "text/plain": [
       "<Figure size 1080x432 with 4 Axes>"
      ]
     },
     "metadata": {},
     "output_type": "display_data"
    }
   ],
   "source": [
    "# Printing histograms of the following attributes: 'ca_random','chestpain','target','thal'\n",
    "df.hist(column = ['ca_random','chestpain','target','thal'])\n",
    "plt.tight_layout()\n",
    "plt.show()"
   ]
  },
  {
   "cell_type": "code",
   "execution_count": 40,
   "metadata": {},
   "outputs": [
    {
     "data": {
      "text/html": [
       "<div>\n",
       "<style scoped>\n",
       "    .dataframe tbody tr th:only-of-type {\n",
       "        vertical-align: middle;\n",
       "    }\n",
       "\n",
       "    .dataframe tbody tr th {\n",
       "        vertical-align: top;\n",
       "    }\n",
       "\n",
       "    .dataframe thead th {\n",
       "        text-align: right;\n",
       "    }\n",
       "</style>\n",
       "<table border=\"1\" class=\"dataframe\">\n",
       "  <thead>\n",
       "    <tr style=\"text-align: right;\">\n",
       "      <th></th>\n",
       "      <th>thalach</th>\n",
       "      <th>oldpeak</th>\n",
       "      <th>ca_random</th>\n",
       "      <th>chol</th>\n",
       "      <th>age</th>\n",
       "      <th>restbps</th>\n",
       "      <th>chestpain</th>\n",
       "      <th>thal</th>\n",
       "      <th>target</th>\n",
       "    </tr>\n",
       "  </thead>\n",
       "  <tbody>\n",
       "    <tr>\n",
       "      <th>thalach</th>\n",
       "      <td>1.00</td>\n",
       "      <td>-0.35</td>\n",
       "      <td>-0.27</td>\n",
       "      <td>-0.01</td>\n",
       "      <td>-0.40</td>\n",
       "      <td>-0.05</td>\n",
       "      <td>-0.34</td>\n",
       "      <td>-0.28</td>\n",
       "      <td>-0.42</td>\n",
       "    </tr>\n",
       "    <tr>\n",
       "      <th>oldpeak</th>\n",
       "      <td>-0.35</td>\n",
       "      <td>1.00</td>\n",
       "      <td>0.30</td>\n",
       "      <td>0.05</td>\n",
       "      <td>0.20</td>\n",
       "      <td>0.19</td>\n",
       "      <td>0.21</td>\n",
       "      <td>0.34</td>\n",
       "      <td>0.51</td>\n",
       "    </tr>\n",
       "    <tr>\n",
       "      <th>ca_random</th>\n",
       "      <td>-0.27</td>\n",
       "      <td>0.30</td>\n",
       "      <td>1.00</td>\n",
       "      <td>0.12</td>\n",
       "      <td>0.36</td>\n",
       "      <td>0.10</td>\n",
       "      <td>0.24</td>\n",
       "      <td>0.26</td>\n",
       "      <td>0.52</td>\n",
       "    </tr>\n",
       "    <tr>\n",
       "      <th>chol</th>\n",
       "      <td>-0.01</td>\n",
       "      <td>0.05</td>\n",
       "      <td>0.12</td>\n",
       "      <td>1.00</td>\n",
       "      <td>0.21</td>\n",
       "      <td>0.13</td>\n",
       "      <td>0.07</td>\n",
       "      <td>0.01</td>\n",
       "      <td>0.07</td>\n",
       "    </tr>\n",
       "    <tr>\n",
       "      <th>age</th>\n",
       "      <td>-0.40</td>\n",
       "      <td>0.20</td>\n",
       "      <td>0.36</td>\n",
       "      <td>0.21</td>\n",
       "      <td>1.00</td>\n",
       "      <td>0.28</td>\n",
       "      <td>0.11</td>\n",
       "      <td>0.13</td>\n",
       "      <td>0.23</td>\n",
       "    </tr>\n",
       "    <tr>\n",
       "      <th>restbps</th>\n",
       "      <td>-0.05</td>\n",
       "      <td>0.19</td>\n",
       "      <td>0.10</td>\n",
       "      <td>0.13</td>\n",
       "      <td>0.28</td>\n",
       "      <td>1.00</td>\n",
       "      <td>-0.03</td>\n",
       "      <td>0.13</td>\n",
       "      <td>0.16</td>\n",
       "    </tr>\n",
       "    <tr>\n",
       "      <th>chestpain</th>\n",
       "      <td>-0.34</td>\n",
       "      <td>0.21</td>\n",
       "      <td>0.24</td>\n",
       "      <td>0.07</td>\n",
       "      <td>0.11</td>\n",
       "      <td>-0.03</td>\n",
       "      <td>1.00</td>\n",
       "      <td>0.27</td>\n",
       "      <td>0.40</td>\n",
       "    </tr>\n",
       "    <tr>\n",
       "      <th>thal</th>\n",
       "      <td>-0.28</td>\n",
       "      <td>0.34</td>\n",
       "      <td>0.26</td>\n",
       "      <td>0.01</td>\n",
       "      <td>0.13</td>\n",
       "      <td>0.13</td>\n",
       "      <td>0.27</td>\n",
       "      <td>1.00</td>\n",
       "      <td>0.51</td>\n",
       "    </tr>\n",
       "    <tr>\n",
       "      <th>target</th>\n",
       "      <td>-0.42</td>\n",
       "      <td>0.51</td>\n",
       "      <td>0.52</td>\n",
       "      <td>0.07</td>\n",
       "      <td>0.23</td>\n",
       "      <td>0.16</td>\n",
       "      <td>0.40</td>\n",
       "      <td>0.51</td>\n",
       "      <td>1.00</td>\n",
       "    </tr>\n",
       "  </tbody>\n",
       "</table>\n",
       "</div>"
      ],
      "text/plain": [
       "           thalach  oldpeak  ca_random  chol   age  restbps  chestpain  thal  \\\n",
       "thalach       1.00    -0.35      -0.27 -0.01 -0.40    -0.05      -0.34 -0.28   \n",
       "oldpeak      -0.35     1.00       0.30  0.05  0.20     0.19       0.21  0.34   \n",
       "ca_random    -0.27     0.30       1.00  0.12  0.36     0.10       0.24  0.26   \n",
       "chol         -0.01     0.05       0.12  1.00  0.21     0.13       0.07  0.01   \n",
       "age          -0.40     0.20       0.36  0.21  1.00     0.28       0.11  0.13   \n",
       "restbps      -0.05     0.19       0.10  0.13  0.28     1.00      -0.03  0.13   \n",
       "chestpain    -0.34     0.21       0.24  0.07  0.11    -0.03       1.00  0.27   \n",
       "thal         -0.28     0.34       0.26  0.01  0.13     0.13       0.27  1.00   \n",
       "target       -0.42     0.51       0.52  0.07  0.23     0.16       0.40  0.51   \n",
       "\n",
       "           target  \n",
       "thalach     -0.42  \n",
       "oldpeak      0.51  \n",
       "ca_random    0.52  \n",
       "chol         0.07  \n",
       "age          0.23  \n",
       "restbps      0.16  \n",
       "chestpain    0.40  \n",
       "thal         0.51  \n",
       "target       1.00  "
      ]
     },
     "execution_count": 40,
     "metadata": {},
     "output_type": "execute_result"
    }
   ],
   "source": [
    "# Correlation table\n",
    "ht=df.corr()\n",
    "ht.round(2)"
   ]
  },
  {
   "cell_type": "code",
   "execution_count": 41,
   "metadata": {},
   "outputs": [
    {
     "data": {
      "text/plain": [
       "<matplotlib.axes._subplots.AxesSubplot at 0x28bb26f6248>"
      ]
     },
     "execution_count": 41,
     "metadata": {},
     "output_type": "execute_result"
    },
    {
     "data": {
      "image/png": "[encoded data removed]",
      "text/plain": [
       "<Figure size 1080x432 with 2 Axes>"
      ]
     },
     "metadata": {},
     "output_type": "display_data"
    }
   ],
   "source": [
    "# There are no strong correlation between the atttributes\n",
    "# Printing correlation matrix using heatmap for visualization purposes.\n",
    "sns.heatmap(ht, cmap=\"Blues\", linecolor=\"black\", linewidths=1, annot= True)"
   ]
  },
  {
   "cell_type": "markdown",
   "metadata": {},
   "source": [
    "### Part 3: Supervised Learning [deval]"
   ]
  },
  {
   "cell_type": "code",
   "execution_count": 42,
   "metadata": {},
   "outputs": [
    {
     "data": {
      "text/html": [
       "<div>\n",
       "<style scoped>\n",
       "    .dataframe tbody tr th:only-of-type {\n",
       "        vertical-align: middle;\n",
       "    }\n",
       "\n",
       "    .dataframe tbody tr th {\n",
       "        vertical-align: top;\n",
       "    }\n",
       "\n",
       "    .dataframe thead th {\n",
       "        text-align: right;\n",
       "    }\n",
       "</style>\n",
       "<table border=\"1\" class=\"dataframe\">\n",
       "  <thead>\n",
       "    <tr style=\"text-align: right;\">\n",
       "      <th></th>\n",
       "      <th>thalach</th>\n",
       "      <th>oldpeak</th>\n",
       "      <th>ca_random</th>\n",
       "      <th>chol</th>\n",
       "      <th>age</th>\n",
       "      <th>restbps</th>\n",
       "      <th>chestpain</th>\n",
       "      <th>thal</th>\n",
       "      <th>target</th>\n",
       "    </tr>\n",
       "  </thead>\n",
       "  <tbody>\n",
       "    <tr>\n",
       "      <th>0</th>\n",
       "      <td>108</td>\n",
       "      <td>1.5</td>\n",
       "      <td>3.0</td>\n",
       "      <td>286</td>\n",
       "      <td>67</td>\n",
       "      <td>160</td>\n",
       "      <td>4</td>\n",
       "      <td>3.0</td>\n",
       "      <td>2</td>\n",
       "    </tr>\n",
       "    <tr>\n",
       "      <th>1</th>\n",
       "      <td>129</td>\n",
       "      <td>2.6</td>\n",
       "      <td>2.0</td>\n",
       "      <td>229</td>\n",
       "      <td>67</td>\n",
       "      <td>120</td>\n",
       "      <td>4</td>\n",
       "      <td>7.0</td>\n",
       "      <td>1</td>\n",
       "    </tr>\n",
       "    <tr>\n",
       "      <th>2</th>\n",
       "      <td>187</td>\n",
       "      <td>3.5</td>\n",
       "      <td>0.0</td>\n",
       "      <td>250</td>\n",
       "      <td>37</td>\n",
       "      <td>130</td>\n",
       "      <td>3</td>\n",
       "      <td>3.0</td>\n",
       "      <td>0</td>\n",
       "    </tr>\n",
       "    <tr>\n",
       "      <th>3</th>\n",
       "      <td>172</td>\n",
       "      <td>1.4</td>\n",
       "      <td>0.0</td>\n",
       "      <td>204</td>\n",
       "      <td>41</td>\n",
       "      <td>130</td>\n",
       "      <td>2</td>\n",
       "      <td>3.0</td>\n",
       "      <td>0</td>\n",
       "    </tr>\n",
       "    <tr>\n",
       "      <th>4</th>\n",
       "      <td>178</td>\n",
       "      <td>0.8</td>\n",
       "      <td>0.0</td>\n",
       "      <td>236</td>\n",
       "      <td>56</td>\n",
       "      <td>120</td>\n",
       "      <td>2</td>\n",
       "      <td>3.0</td>\n",
       "      <td>0</td>\n",
       "    </tr>\n",
       "  </tbody>\n",
       "</table>\n",
       "</div>"
      ],
      "text/plain": [
       "   thalach  oldpeak  ca_random  chol  age  restbps  chestpain  thal  target\n",
       "0      108      1.5        3.0   286   67      160          4   3.0       2\n",
       "1      129      2.6        2.0   229   67      120          4   7.0       1\n",
       "2      187      3.5        0.0   250   37      130          3   3.0       0\n",
       "3      172      1.4        0.0   204   41      130          2   3.0       0\n",
       "4      178      0.8        0.0   236   56      120          2   3.0       0"
      ]
     },
     "execution_count": 42,
     "metadata": {},
     "output_type": "execute_result"
    }
   ],
   "source": [
    "# printing the dataset\n",
    "df.head()"
   ]
  },
  {
   "cell_type": "code",
   "execution_count": 43,
   "metadata": {},
   "outputs": [
    {
     "data": {
      "text/plain": [
       "array([2, 1, 0, 3, 4], dtype=int64)"
      ]
     },
     "execution_count": 43,
     "metadata": {},
     "output_type": "execute_result"
    }
   ],
   "source": [
    "# Unique values in target column\n",
    "df.target.unique()"
   ]
  },
  {
   "cell_type": "code",
   "execution_count": 44,
   "metadata": {},
   "outputs": [
    {
     "data": {
      "text/plain": [
       "array([1, 0], dtype=int64)"
      ]
     },
     "execution_count": 44,
     "metadata": {},
     "output_type": "execute_result"
    }
   ],
   "source": [
    "# Currently the dataset has target values in range [0, 4], indicating severity of heart disease,\n",
    "# with 0 meaning no heart disease and rest indicating heart disease.\n",
    "\n",
    "# So we will replace values 1-4 in target column with 1, and the updated column will have only\n",
    "# two values. 0 meaning no heart disease and 1 indicating heart disease.\n",
    "df['target'].replace({1:1, 2:1,3:1,4:1}, inplace=True)\n",
    "df.target.unique()"
   ]
  },
  {
   "cell_type": "code",
   "execution_count": 45,
   "metadata": {},
   "outputs": [],
   "source": [
    "# defining features\n",
    "features = ['thalach','oldpeak','ca_random','thal','chol','age','restbps','chestpain']"
   ]
  },
  {
   "cell_type": "code",
   "execution_count": 46,
   "metadata": {},
   "outputs": [
    {
     "data": {
      "text/html": [
       "<div>\n",
       "<style scoped>\n",
       "    .dataframe tbody tr th:only-of-type {\n",
       "        vertical-align: middle;\n",
       "    }\n",
       "\n",
       "    .dataframe tbody tr th {\n",
       "        vertical-align: top;\n",
       "    }\n",
       "\n",
       "    .dataframe thead th {\n",
       "        text-align: right;\n",
       "    }\n",
       "</style>\n",
       "<table border=\"1\" class=\"dataframe\">\n",
       "  <thead>\n",
       "    <tr style=\"text-align: right;\">\n",
       "      <th></th>\n",
       "      <th>target</th>\n",
       "    </tr>\n",
       "  </thead>\n",
       "  <tbody>\n",
       "    <tr>\n",
       "      <th>0</th>\n",
       "      <td>1</td>\n",
       "    </tr>\n",
       "    <tr>\n",
       "      <th>1</th>\n",
       "      <td>1</td>\n",
       "    </tr>\n",
       "    <tr>\n",
       "      <th>2</th>\n",
       "      <td>0</td>\n",
       "    </tr>\n",
       "    <tr>\n",
       "      <th>3</th>\n",
       "      <td>0</td>\n",
       "    </tr>\n",
       "    <tr>\n",
       "      <th>4</th>\n",
       "      <td>0</td>\n",
       "    </tr>\n",
       "  </tbody>\n",
       "</table>\n",
       "</div>"
      ],
      "text/plain": [
       "   target\n",
       "0       1\n",
       "1       1\n",
       "2       0\n",
       "3       0\n",
       "4       0"
      ]
     },
     "execution_count": 46,
     "metadata": {},
     "output_type": "execute_result"
    }
   ],
   "source": [
    "# setting target variable\n",
    "y = df[['target']].copy()\n",
    "y.head()"
   ]
  },
  {
   "cell_type": "code",
   "execution_count": 47,
   "metadata": {},
   "outputs": [
    {
     "data": {
      "text/html": [
       "<div>\n",
       "<style scoped>\n",
       "    .dataframe tbody tr th:only-of-type {\n",
       "        vertical-align: middle;\n",
       "    }\n",
       "\n",
       "    .dataframe tbody tr th {\n",
       "        vertical-align: top;\n",
       "    }\n",
       "\n",
       "    .dataframe thead th {\n",
       "        text-align: right;\n",
       "    }\n",
       "</style>\n",
       "<table border=\"1\" class=\"dataframe\">\n",
       "  <thead>\n",
       "    <tr style=\"text-align: right;\">\n",
       "      <th></th>\n",
       "      <th>thalach</th>\n",
       "      <th>oldpeak</th>\n",
       "      <th>ca_random</th>\n",
       "      <th>thal</th>\n",
       "      <th>chol</th>\n",
       "      <th>age</th>\n",
       "      <th>restbps</th>\n",
       "      <th>chestpain</th>\n",
       "    </tr>\n",
       "  </thead>\n",
       "  <tbody>\n",
       "    <tr>\n",
       "      <th>0</th>\n",
       "      <td>108</td>\n",
       "      <td>1.5</td>\n",
       "      <td>3.0</td>\n",
       "      <td>3.0</td>\n",
       "      <td>286</td>\n",
       "      <td>67</td>\n",
       "      <td>160</td>\n",
       "      <td>4</td>\n",
       "    </tr>\n",
       "    <tr>\n",
       "      <th>1</th>\n",
       "      <td>129</td>\n",
       "      <td>2.6</td>\n",
       "      <td>2.0</td>\n",
       "      <td>7.0</td>\n",
       "      <td>229</td>\n",
       "      <td>67</td>\n",
       "      <td>120</td>\n",
       "      <td>4</td>\n",
       "    </tr>\n",
       "    <tr>\n",
       "      <th>2</th>\n",
       "      <td>187</td>\n",
       "      <td>3.5</td>\n",
       "      <td>0.0</td>\n",
       "      <td>3.0</td>\n",
       "      <td>250</td>\n",
       "      <td>37</td>\n",
       "      <td>130</td>\n",
       "      <td>3</td>\n",
       "    </tr>\n",
       "    <tr>\n",
       "      <th>3</th>\n",
       "      <td>172</td>\n",
       "      <td>1.4</td>\n",
       "      <td>0.0</td>\n",
       "      <td>3.0</td>\n",
       "      <td>204</td>\n",
       "      <td>41</td>\n",
       "      <td>130</td>\n",
       "      <td>2</td>\n",
       "    </tr>\n",
       "    <tr>\n",
       "      <th>4</th>\n",
       "      <td>178</td>\n",
       "      <td>0.8</td>\n",
       "      <td>0.0</td>\n",
       "      <td>3.0</td>\n",
       "      <td>236</td>\n",
       "      <td>56</td>\n",
       "      <td>120</td>\n",
       "      <td>2</td>\n",
       "    </tr>\n",
       "  </tbody>\n",
       "</table>\n",
       "</div>"
      ],
      "text/plain": [
       "   thalach  oldpeak  ca_random  thal  chol  age  restbps  chestpain\n",
       "0      108      1.5        3.0   3.0   286   67      160          4\n",
       "1      129      2.6        2.0   7.0   229   67      120          4\n",
       "2      187      3.5        0.0   3.0   250   37      130          3\n",
       "3      172      1.4        0.0   3.0   204   41      130          2\n",
       "4      178      0.8        0.0   3.0   236   56      120          2"
      ]
     },
     "execution_count": 47,
     "metadata": {},
     "output_type": "execute_result"
    }
   ],
   "source": [
    "# setting input variable\n",
    "X  = df[features].copy()\n",
    "X.head()"
   ]
  },
  {
   "cell_type": "markdown",
   "metadata": {},
   "source": [
    "### Splitting The Dataset Into Training & Test Datasets \n",
    "The data will be divided into test and training datasets. The training dataset will be used to train the model, and the test dataset will be used to test the model’s performance.\n",
    "\n",
    "While splitting the data into training and test datasets, two things come into the picture:\n",
    "1. **Test Size**<br> \n",
    "This parameter defines the percentage of the data used to test the model’s performance. For example, if the test size is 0.25, then 25% of data will form test data, and the remaining 75% will create training data. The value of this parameter is between 0 and 1 and can be an int or float.<br><br>  \n",
    "2. **Random State**<br>\n",
    "This parameter controls the shuffling applied to the data before it is split. For example, consider that the data under consideration has 100 records. If the random state is set to 5, then the first ten records (1 -10) may form a part of the test dataset, but if the random state is 15, it can be the case that records from 11 to 20 become part of the test dataset.<br> This virtually affects the conclusions about the model’s performance, as the test datasets for different random states may or may not be alike (well balanced, not biased), and accuracy results will vary. To overcome this problem, a random state is always specified so that any random state is not picked up during the time of execution."
   ]
  },
  {
   "cell_type": "code",
   "execution_count": 48,
   "metadata": {},
   "outputs": [
    {
     "data": {
      "text/html": [
       "<div>\n",
       "<style scoped>\n",
       "    .dataframe tbody tr th:only-of-type {\n",
       "        vertical-align: middle;\n",
       "    }\n",
       "\n",
       "    .dataframe tbody tr th {\n",
       "        vertical-align: top;\n",
       "    }\n",
       "\n",
       "    .dataframe thead th {\n",
       "        text-align: right;\n",
       "    }\n",
       "</style>\n",
       "<table border=\"1\" class=\"dataframe\">\n",
       "  <thead>\n",
       "    <tr style=\"text-align: right;\">\n",
       "      <th></th>\n",
       "      <th>thalach</th>\n",
       "      <th>oldpeak</th>\n",
       "      <th>ca_random</th>\n",
       "      <th>thal</th>\n",
       "      <th>chol</th>\n",
       "      <th>age</th>\n",
       "      <th>restbps</th>\n",
       "      <th>chestpain</th>\n",
       "    </tr>\n",
       "  </thead>\n",
       "  <tbody>\n",
       "    <tr>\n",
       "      <th>203</th>\n",
       "      <td>161</td>\n",
       "      <td>0.0</td>\n",
       "      <td>0.0</td>\n",
       "      <td>7.0</td>\n",
       "      <td>211</td>\n",
       "      <td>43</td>\n",
       "      <td>110</td>\n",
       "      <td>4</td>\n",
       "    </tr>\n",
       "    <tr>\n",
       "      <th>225</th>\n",
       "      <td>143</td>\n",
       "      <td>0.1</td>\n",
       "      <td>0.0</td>\n",
       "      <td>3.0</td>\n",
       "      <td>204</td>\n",
       "      <td>47</td>\n",
       "      <td>112</td>\n",
       "      <td>4</td>\n",
       "    </tr>\n",
       "    <tr>\n",
       "      <th>34</th>\n",
       "      <td>178</td>\n",
       "      <td>0.0</td>\n",
       "      <td>0.0</td>\n",
       "      <td>3.0</td>\n",
       "      <td>226</td>\n",
       "      <td>42</td>\n",
       "      <td>140</td>\n",
       "      <td>4</td>\n",
       "    </tr>\n",
       "    <tr>\n",
       "      <th>114</th>\n",
       "      <td>132</td>\n",
       "      <td>0.0</td>\n",
       "      <td>0.0</td>\n",
       "      <td>6.0</td>\n",
       "      <td>203</td>\n",
       "      <td>41</td>\n",
       "      <td>135</td>\n",
       "      <td>2</td>\n",
       "    </tr>\n",
       "    <tr>\n",
       "      <th>170</th>\n",
       "      <td>111</td>\n",
       "      <td>0.0</td>\n",
       "      <td>0.0</td>\n",
       "      <td>7.0</td>\n",
       "      <td>226</td>\n",
       "      <td>53</td>\n",
       "      <td>142</td>\n",
       "      <td>4</td>\n",
       "    </tr>\n",
       "  </tbody>\n",
       "</table>\n",
       "</div>"
      ],
      "text/plain": [
       "     thalach  oldpeak  ca_random  thal  chol  age  restbps  chestpain\n",
       "203      161      0.0        0.0   7.0   211   43      110          4\n",
       "225      143      0.1        0.0   3.0   204   47      112          4\n",
       "34       178      0.0        0.0   3.0   226   42      140          4\n",
       "114      132      0.0        0.0   6.0   203   41      135          2\n",
       "170      111      0.0        0.0   7.0   226   53      142          4"
      ]
     },
     "execution_count": 48,
     "metadata": {},
     "output_type": "execute_result"
    }
   ],
   "source": [
    "# random split\n",
    "# test_size = 0.33\n",
    "X_train, X_test, y_train, y_test = train_test_split(X, y, test_size=0.33)\n",
    "X_train.head()"
   ]
  },
  {
   "cell_type": "code",
   "execution_count": 49,
   "metadata": {},
   "outputs": [
    {
     "data": {
      "text/html": [
       "<div>\n",
       "<style scoped>\n",
       "    .dataframe tbody tr th:only-of-type {\n",
       "        vertical-align: middle;\n",
       "    }\n",
       "\n",
       "    .dataframe tbody tr th {\n",
       "        vertical-align: top;\n",
       "    }\n",
       "\n",
       "    .dataframe thead th {\n",
       "        text-align: right;\n",
       "    }\n",
       "</style>\n",
       "<table border=\"1\" class=\"dataframe\">\n",
       "  <thead>\n",
       "    <tr style=\"text-align: right;\">\n",
       "      <th></th>\n",
       "      <th>thalach</th>\n",
       "      <th>oldpeak</th>\n",
       "      <th>ca_random</th>\n",
       "      <th>thal</th>\n",
       "      <th>chol</th>\n",
       "      <th>age</th>\n",
       "      <th>restbps</th>\n",
       "      <th>chestpain</th>\n",
       "    </tr>\n",
       "  </thead>\n",
       "  <tbody>\n",
       "    <tr>\n",
       "      <th>296</th>\n",
       "      <td>123</td>\n",
       "      <td>0.2</td>\n",
       "      <td>0.0</td>\n",
       "      <td>7.0</td>\n",
       "      <td>241</td>\n",
       "      <td>57</td>\n",
       "      <td>140</td>\n",
       "      <td>4</td>\n",
       "    </tr>\n",
       "    <tr>\n",
       "      <th>275</th>\n",
       "      <td>152</td>\n",
       "      <td>0.0</td>\n",
       "      <td>1.0</td>\n",
       "      <td>3.0</td>\n",
       "      <td>278</td>\n",
       "      <td>66</td>\n",
       "      <td>146</td>\n",
       "      <td>3</td>\n",
       "    </tr>\n",
       "    <tr>\n",
       "      <th>232</th>\n",
       "      <td>121</td>\n",
       "      <td>0.2</td>\n",
       "      <td>1.0</td>\n",
       "      <td>3.0</td>\n",
       "      <td>269</td>\n",
       "      <td>74</td>\n",
       "      <td>120</td>\n",
       "      <td>2</td>\n",
       "    </tr>\n",
       "    <tr>\n",
       "      <th>219</th>\n",
       "      <td>172</td>\n",
       "      <td>0.0</td>\n",
       "      <td>0.0</td>\n",
       "      <td>3.0</td>\n",
       "      <td>268</td>\n",
       "      <td>41</td>\n",
       "      <td>112</td>\n",
       "      <td>3</td>\n",
       "    </tr>\n",
       "    <tr>\n",
       "      <th>239</th>\n",
       "      <td>153</td>\n",
       "      <td>0.0</td>\n",
       "      <td>0.0</td>\n",
       "      <td>3.0</td>\n",
       "      <td>235</td>\n",
       "      <td>41</td>\n",
       "      <td>110</td>\n",
       "      <td>2</td>\n",
       "    </tr>\n",
       "  </tbody>\n",
       "</table>\n",
       "</div>"
      ],
      "text/plain": [
       "     thalach  oldpeak  ca_random  thal  chol  age  restbps  chestpain\n",
       "296      123      0.2        0.0   7.0   241   57      140          4\n",
       "275      152      0.0        1.0   3.0   278   66      146          3\n",
       "232      121      0.2        1.0   3.0   269   74      120          2\n",
       "219      172      0.0        0.0   3.0   268   41      112          3\n",
       "239      153      0.0        0.0   3.0   235   41      110          2"
      ]
     },
     "execution_count": 49,
     "metadata": {},
     "output_type": "execute_result"
    }
   ],
   "source": [
    "# random split\n",
    "# test_size = 0.33\n",
    "X_train, X_test, y_train, y_test = train_test_split(X, y, test_size=0.33)\n",
    "X_train.head()"
   ]
  },
  {
   "cell_type": "markdown",
   "metadata": {},
   "source": [
    "As can be seen from above two executions, the training datasets are different."
   ]
  },
  {
   "cell_type": "code",
   "execution_count": 50,
   "metadata": {},
   "outputs": [
    {
     "data": {
      "text/html": [
       "<div>\n",
       "<style scoped>\n",
       "    .dataframe tbody tr th:only-of-type {\n",
       "        vertical-align: middle;\n",
       "    }\n",
       "\n",
       "    .dataframe tbody tr th {\n",
       "        vertical-align: top;\n",
       "    }\n",
       "\n",
       "    .dataframe thead th {\n",
       "        text-align: right;\n",
       "    }\n",
       "</style>\n",
       "<table border=\"1\" class=\"dataframe\">\n",
       "  <thead>\n",
       "    <tr style=\"text-align: right;\">\n",
       "      <th></th>\n",
       "      <th>thalach</th>\n",
       "      <th>oldpeak</th>\n",
       "      <th>ca_random</th>\n",
       "      <th>thal</th>\n",
       "      <th>chol</th>\n",
       "      <th>age</th>\n",
       "      <th>restbps</th>\n",
       "      <th>chestpain</th>\n",
       "    </tr>\n",
       "  </thead>\n",
       "  <tbody>\n",
       "    <tr>\n",
       "      <th>268</th>\n",
       "      <td>150</td>\n",
       "      <td>0.0</td>\n",
       "      <td>0.0</td>\n",
       "      <td>3.0</td>\n",
       "      <td>180</td>\n",
       "      <td>42</td>\n",
       "      <td>130</td>\n",
       "      <td>3</td>\n",
       "    </tr>\n",
       "    <tr>\n",
       "      <th>147</th>\n",
       "      <td>170</td>\n",
       "      <td>0.0</td>\n",
       "      <td>0.0</td>\n",
       "      <td>3.0</td>\n",
       "      <td>308</td>\n",
       "      <td>45</td>\n",
       "      <td>128</td>\n",
       "      <td>2</td>\n",
       "    </tr>\n",
       "    <tr>\n",
       "      <th>197</th>\n",
       "      <td>162</td>\n",
       "      <td>1.1</td>\n",
       "      <td>0.0</td>\n",
       "      <td>3.0</td>\n",
       "      <td>244</td>\n",
       "      <td>50</td>\n",
       "      <td>120</td>\n",
       "      <td>2</td>\n",
       "    </tr>\n",
       "    <tr>\n",
       "      <th>259</th>\n",
       "      <td>149</td>\n",
       "      <td>0.3</td>\n",
       "      <td>1.0</td>\n",
       "      <td>3.0</td>\n",
       "      <td>242</td>\n",
       "      <td>44</td>\n",
       "      <td>118</td>\n",
       "      <td>3</td>\n",
       "    </tr>\n",
       "    <tr>\n",
       "      <th>266</th>\n",
       "      <td>134</td>\n",
       "      <td>2.2</td>\n",
       "      <td>1.0</td>\n",
       "      <td>6.0</td>\n",
       "      <td>218</td>\n",
       "      <td>59</td>\n",
       "      <td>126</td>\n",
       "      <td>3</td>\n",
       "    </tr>\n",
       "  </tbody>\n",
       "</table>\n",
       "</div>"
      ],
      "text/plain": [
       "     thalach  oldpeak  ca_random  thal  chol  age  restbps  chestpain\n",
       "268      150      0.0        0.0   3.0   180   42      130          3\n",
       "147      170      0.0        0.0   3.0   308   45      128          2\n",
       "197      162      1.1        0.0   3.0   244   50      120          2\n",
       "259      149      0.3        1.0   3.0   242   44      118          3\n",
       "266      134      2.2        1.0   6.0   218   59      126          3"
      ]
     },
     "execution_count": 50,
     "metadata": {},
     "output_type": "execute_result"
    }
   ],
   "source": [
    "# specifying random_state 324\n",
    "# test_size = 0.33\n",
    "X_train, X_test, y_train, y_test = train_test_split(X, y, test_size=0.33, random_state = 324)\n",
    "X_train.head()"
   ]
  },
  {
   "cell_type": "code",
   "execution_count": 51,
   "metadata": {},
   "outputs": [
    {
     "data": {
      "text/html": [
       "<div>\n",
       "<style scoped>\n",
       "    .dataframe tbody tr th:only-of-type {\n",
       "        vertical-align: middle;\n",
       "    }\n",
       "\n",
       "    .dataframe tbody tr th {\n",
       "        vertical-align: top;\n",
       "    }\n",
       "\n",
       "    .dataframe thead th {\n",
       "        text-align: right;\n",
       "    }\n",
       "</style>\n",
       "<table border=\"1\" class=\"dataframe\">\n",
       "  <thead>\n",
       "    <tr style=\"text-align: right;\">\n",
       "      <th></th>\n",
       "      <th>thalach</th>\n",
       "      <th>oldpeak</th>\n",
       "      <th>ca_random</th>\n",
       "      <th>thal</th>\n",
       "      <th>chol</th>\n",
       "      <th>age</th>\n",
       "      <th>restbps</th>\n",
       "      <th>chestpain</th>\n",
       "    </tr>\n",
       "  </thead>\n",
       "  <tbody>\n",
       "    <tr>\n",
       "      <th>268</th>\n",
       "      <td>150</td>\n",
       "      <td>0.0</td>\n",
       "      <td>0.0</td>\n",
       "      <td>3.0</td>\n",
       "      <td>180</td>\n",
       "      <td>42</td>\n",
       "      <td>130</td>\n",
       "      <td>3</td>\n",
       "    </tr>\n",
       "    <tr>\n",
       "      <th>147</th>\n",
       "      <td>170</td>\n",
       "      <td>0.0</td>\n",
       "      <td>0.0</td>\n",
       "      <td>3.0</td>\n",
       "      <td>308</td>\n",
       "      <td>45</td>\n",
       "      <td>128</td>\n",
       "      <td>2</td>\n",
       "    </tr>\n",
       "    <tr>\n",
       "      <th>197</th>\n",
       "      <td>162</td>\n",
       "      <td>1.1</td>\n",
       "      <td>0.0</td>\n",
       "      <td>3.0</td>\n",
       "      <td>244</td>\n",
       "      <td>50</td>\n",
       "      <td>120</td>\n",
       "      <td>2</td>\n",
       "    </tr>\n",
       "    <tr>\n",
       "      <th>259</th>\n",
       "      <td>149</td>\n",
       "      <td>0.3</td>\n",
       "      <td>1.0</td>\n",
       "      <td>3.0</td>\n",
       "      <td>242</td>\n",
       "      <td>44</td>\n",
       "      <td>118</td>\n",
       "      <td>3</td>\n",
       "    </tr>\n",
       "    <tr>\n",
       "      <th>266</th>\n",
       "      <td>134</td>\n",
       "      <td>2.2</td>\n",
       "      <td>1.0</td>\n",
       "      <td>6.0</td>\n",
       "      <td>218</td>\n",
       "      <td>59</td>\n",
       "      <td>126</td>\n",
       "      <td>3</td>\n",
       "    </tr>\n",
       "  </tbody>\n",
       "</table>\n",
       "</div>"
      ],
      "text/plain": [
       "     thalach  oldpeak  ca_random  thal  chol  age  restbps  chestpain\n",
       "268      150      0.0        0.0   3.0   180   42      130          3\n",
       "147      170      0.0        0.0   3.0   308   45      128          2\n",
       "197      162      1.1        0.0   3.0   244   50      120          2\n",
       "259      149      0.3        1.0   3.0   242   44      118          3\n",
       "266      134      2.2        1.0   6.0   218   59      126          3"
      ]
     },
     "execution_count": 51,
     "metadata": {},
     "output_type": "execute_result"
    }
   ],
   "source": [
    "# specifying random_state 324\n",
    "# test_size = 0.33\n",
    "X_train, X_test, y_train, y_test = train_test_split(X, y, test_size=0.33, random_state = 324)\n",
    "X_train.head()"
   ]
  },
  {
   "cell_type": "markdown",
   "metadata": {},
   "source": [
    "As expected, after specifying the random state, the datasets remain the same irrespective of the executions."
   ]
  },
  {
   "cell_type": "markdown",
   "metadata": {},
   "source": [
    "### Training The Model\n",
    "The datasets that we created above will be used to train the model. This will be done using Decision Tree Classifier with max leaf nodes as 10, and Naive Bayes."
   ]
  },
  {
   "cell_type": "markdown",
   "metadata": {},
   "source": [
    "**Decision Tree**"
   ]
  },
  {
   "cell_type": "code",
   "execution_count": 60,
   "metadata": {},
   "outputs": [
    {
     "data": {
      "text/plain": [
       "DecisionTreeClassifier(max_leaf_nodes=10, random_state=0)"
      ]
     },
     "execution_count": 60,
     "metadata": {},
     "output_type": "execute_result"
    }
   ],
   "source": [
    "decisiontree_classifier = DecisionTreeClassifier(max_leaf_nodes=10, random_state=0)\n",
    "decisiontree_classifier.fit(X_train, y_train)"
   ]
  },
  {
   "cell_type": "code",
   "execution_count": 61,
   "metadata": {},
   "outputs": [],
   "source": [
    "# predicting the values\n",
    "decisiontree_predictions = decisiontree_classifier.predict(X_test)"
   ]
  },
  {
   "cell_type": "markdown",
   "metadata": {},
   "source": [
    "**Naive Bayes**"
   ]
  },
  {
   "cell_type": "code",
   "execution_count": 62,
   "metadata": {},
   "outputs": [],
   "source": [
    "from sklearn.naive_bayes import GaussianNB\n",
    "gnb=GaussianNB()\n",
    "nb_predictions = gnb.fit(X, y).predict(X_test)"
   ]
  },
  {
   "cell_type": "markdown",
   "metadata": {},
   "source": [
    "### Model Performance\n",
    "To check for the performace of the model, we will use accuracy score to determine the percentage of predicted values that the model got correct."
   ]
  },
  {
   "cell_type": "code",
   "execution_count": 63,
   "metadata": {},
   "outputs": [
    {
     "data": {
      "text/plain": [
       "0.7878787878787878"
      ]
     },
     "execution_count": 63,
     "metadata": {},
     "output_type": "execute_result"
    }
   ],
   "source": [
    "# decision tree accuracy\n",
    "accuracy_score(y_true = y_test, y_pred = decisiontree_predictions)"
   ]
  },
  {
   "cell_type": "markdown",
   "metadata": {},
   "source": [
    "The accuracy score for the **Decision Tree Model** is **80%**."
   ]
  },
  {
   "cell_type": "code",
   "execution_count": 64,
   "metadata": {},
   "outputs": [
    {
     "data": {
      "text/plain": [
       "0.8181818181818182"
      ]
     },
     "execution_count": 64,
     "metadata": {},
     "output_type": "execute_result"
    }
   ],
   "source": [
    "# naive bayes accuracy\n",
    "accuracy_score(y_true = y_test, y_pred = nb_predictions)"
   ]
  },
  {
   "cell_type": "markdown",
   "metadata": {},
   "source": [
    "The accuracy score for the **Naive Bayes Model** is **84%**."
   ]
  },
  {
   "cell_type": "markdown",
   "metadata": {},
   "source": [
    "### Confusion Matrix"
   ]
  },
  {
   "cell_type": "markdown",
   "metadata": {},
   "source": [
    "**Decision Tree**"
   ]
  },
  {
   "cell_type": "code",
   "execution_count": 65,
   "metadata": {},
   "outputs": [
    {
     "data": {
      "image/png": "[encoded data removed]",
      "text/plain": [
       "<Figure size 1080x432 with 2 Axes>"
      ]
     },
     "metadata": {},
     "output_type": "display_data"
    }
   ],
   "source": [
    "akws = {'backgroundcolor':'blue','verticalalignment':'center', 'horizontalalignment':'center', 'fontsize': 10}\n",
    "cm = confusion_matrix(y_test, decisiontree_predictions)\n",
    "plt.title('Heatmap of Confusion Matrix', fontsize = 15)\n",
    "sns.heatmap(cm, annot=True, cmap='Blues',annot_kws=akws)\n",
    "plt.show()"
   ]
  },
  {
   "cell_type": "markdown",
   "metadata": {},
   "source": [
    "**Analysis**\n",
    "From above confusion matrix it can be seen that TP=38, FP=8, FN=12, and TN=42.\n",
    "Following metrics are calculated based on above data:\n",
    "1. **Recall:** Of all the positve classes, how many were predicted correctly.<br> TP/(TP + FN) = 38/(38 + 12) = 0.76 i.e. **76%**\n",
    "2. **Precision:** Of all the values predicted positive, how many are actually positive.<br>TP/(TP + FP) = 38/(38 + 8) = 0.826 i.e. **82.6%** \n",
    "3. **Accuracy:** Of all the cases, how may were predicted correctly.<br> (TP + TN)/Total = 80/100 = 0.8 i.e. **80%**\n",
    "4. **F Measure:** Used to compare two models.\n",
    "<br> Formula for F measure is (2 * recall * precision) / (recall + precision) = (2 * 0.76 * 0.826) / (0.76 + 0.826) = **0.791**"
   ]
  },
  {
   "cell_type": "markdown",
   "metadata": {},
   "source": [
    "**Naive Bayes**"
   ]
  },
  {
   "cell_type": "code",
   "execution_count": 66,
   "metadata": {},
   "outputs": [
    {
     "data": {
      "image/png": "[encoded data removed]",
      "text/plain": [
       "<Figure size 1080x432 with 2 Axes>"
      ]
     },
     "metadata": {},
     "output_type": "display_data"
    }
   ],
   "source": [
    "akws = {'backgroundcolor':'blue','verticalalignment':'center', 'horizontalalignment':'center', 'fontsize': 10}\n",
    "cm = confusion_matrix(y_test, nb_predictions)\n",
    "plt.title('Heatmap of Confusion Matrix', fontsize = 15)\n",
    "sns.heatmap(cm, annot=True, cmap='Blues',annot_kws=akws)\n",
    "plt.show()"
   ]
  },
  {
   "cell_type": "markdown",
   "metadata": {},
   "source": [
    "**Analysis**\n",
    "From above confusion matrix it can be seen that TP=39, FP=5, FN=11, and TN=45.\n",
    "Following metrics are calculated based on above data:\n",
    "1. **Recall:** Of all the positve classes, how many were predicted correctly.<br> TP/(TP + FN) = 39/(39 + 11) = 0.78 i.e. **78%**\n",
    "2. **Precision:** Of all the values predicted positive, how many are actually positive.<br>TP/(TP + FP) = 39/(39 + 5) = 0.886 i.e. **88.6%** \n",
    "3. **Accuracy:** Of all the cases, how may were predicted correctly.<br> (TP + TN)/Total = 84/100 = 0.8 i.e. **84%**\n",
    "4. **F Measure:** Used to compare two models.\n",
    "<br> Formula for F measure is (2 * recall * precision) / (recall + precision) = (2 * 0.78 * 0.886) / (0.78 + 0.886) = **0.829**"
   ]
  },
  {
   "cell_type": "markdown",
   "metadata": {},
   "source": [
    "**Conclusion**\n",
    "Since Naive Bayes model has higher F1 score compared to Decision Tree model, therefore, for this dataset Naive Bayes model is better suited. "
   ]
  },
  {
   "cell_type": "markdown",
   "metadata": {},
   "source": [
    "### Part 4: Unsupervised Learning [camilo]"
   ]
  },
  {
   "cell_type": "code",
   "execution_count": null,
   "metadata": {},
   "outputs": [],
   "source": []
  },
  {
   "cell_type": "code",
   "execution_count": null,
   "metadata": {},
   "outputs": [],
   "source": []
  },
  {
   "cell_type": "code",
   "execution_count": null,
   "metadata": {},
   "outputs": [],
   "source": []
  },
  {
   "cell_type": "code",
   "execution_count": null,
   "metadata": {},
   "outputs": [],
   "source": []
  },
  {
   "cell_type": "code",
   "execution_count": null,
   "metadata": {},
   "outputs": [],
   "source": []
  }
 ],
 "metadata": {
  "kernelspec": {
   "display_name": "Python 3",
   "language": "python",
   "name": "python3"
  },
  "language_info": {
   "codemirror_mode": {
    "name": "ipython",
    "version": 3
   },
   "file_extension": ".py",
   "mimetype": "text/x-python",
   "name": "python",
   "nbconvert_exporter": "python",
   "pygments_lexer": "ipython3",
   "version": "3.7.6"
  }
 },
 "nbformat": 4,
 "nbformat_minor": 2
}
