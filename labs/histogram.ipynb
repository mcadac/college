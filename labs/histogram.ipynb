{
 "cells": [
  {
   "cell_type": "code",
   "execution_count": 4,
   "metadata": {
    "collapsed": true
   },
   "outputs": [],
   "source": [
    "import numpy as np\n",
    "import matplotlib.pyplot as plt\n",
    "from scipy.stats import norm"
   ]
  },
  {
   "cell_type": "code",
   "execution_count": 5,
   "outputs": [
    {
     "data": {
      "text/plain": "(array([0.00014288, 0.00014288, 0.00014288, 0.00042863, 0.00014288,\n        0.00028575, 0.00028575, 0.00028575, 0.00042863, 0.00071438,\n        0.00028575, 0.00085726, 0.00071438, 0.00114301, 0.00128588,\n        0.00114301, 0.00128588, 0.00157164, 0.00228602, 0.00271464,\n        0.0030004 , 0.00257177, 0.00400053, 0.00614367, 0.00700092,\n        0.00614367, 0.0071438 , 0.00728668, 0.00857256, 0.0101442 ,\n        0.00857256, 0.01042995, 0.01171583, 0.01243021, 0.0142876 ,\n        0.01314459, 0.01400185, 0.01214446, 0.01743087, 0.01600211,\n        0.01543061, 0.01885963, 0.01814525, 0.01628786, 0.017288  ,\n        0.02357454, 0.02043127, 0.01800238, 0.01885963, 0.01871676,\n        0.01971689, 0.02286016, 0.01771662, 0.02114565, 0.01800238,\n        0.01357322, 0.01328747, 0.01514486, 0.01557348, 0.01414472,\n        0.01514486, 0.01343034, 0.01257309, 0.01200158, 0.01028707,\n        0.00942982, 0.00871544, 0.01057282, 0.00571504, 0.00571504,\n        0.00557216, 0.00557216, 0.00542929, 0.00400053, 0.00428628,\n        0.00257177, 0.00328615, 0.00214314, 0.00285752, 0.00128588,\n        0.00185739, 0.0005715 , 0.00128588, 0.00042863, 0.0005715 ,\n        0.0005715 , 0.0005715 , 0.00042863, 0.00100013, 0.00014288,\n        0.00028575, 0.        , 0.00014288, 0.00014288, 0.        ,\n        0.00028575, 0.        , 0.00014288, 0.        , 0.00014288]),\n array([-56.71578127, -55.31596605, -53.91615083, -52.51633561,\n        -51.11652038, -49.71670516, -48.31688994, -46.91707472,\n        -45.51725949, -44.11744427, -42.71762905, -41.31781383,\n        -39.9179986 , -38.51818338, -37.11836816, -35.71855294,\n        -34.31873772, -32.91892249, -31.51910727, -30.11929205,\n        -28.71947683, -27.3196616 , -25.91984638, -24.52003116,\n        -23.12021594, -21.72040072, -20.32058549, -18.92077027,\n        -17.52095505, -16.12113983, -14.7213246 , -13.32150938,\n        -11.92169416, -10.52187894,  -9.12206371,  -7.72224849,\n         -6.32243327,  -4.92261805,  -3.52280283,  -2.1229876 ,\n         -0.72317238,   0.67664284,   2.07645806,   3.47627329,\n          4.87608851,   6.27590373,   7.67571895,   9.07553417,\n         10.4753494 ,  11.87516462,  13.27497984,  14.67479506,\n         16.07461029,  17.47442551,  18.87424073,  20.27405595,\n         21.67387118,  23.0736864 ,  24.47350162,  25.87331684,\n         27.27313206,  28.67294729,  30.07276251,  31.47257773,\n         32.87239295,  34.27220818,  35.6720234 ,  37.07183862,\n         38.47165384,  39.87146906,  41.27128429,  42.67109951,\n         44.07091473,  45.47072995,  46.87054518,  48.2703604 ,\n         49.67017562,  51.06999084,  52.46980607,  53.86962129,\n         55.26943651,  56.66925173,  58.06906695,  59.46888218,\n         60.8686974 ,  62.26851262,  63.66832784,  65.06814307,\n         66.46795829,  67.86777351,  69.26758873,  70.66740395,\n         72.06721918,  73.4670344 ,  74.86684962,  76.26666484,\n         77.66648007,  79.06629529,  80.46611051,  81.86592573,\n         83.26574096]),\n <BarContainer object of 100 artists>)"
     },
     "execution_count": 5,
     "metadata": {},
     "output_type": "execute_result"
    },
    {
     "data": {
      "text/plain": "<Figure size 432x288 with 1 Axes>",
      "image/png": "[encoded data removed]"
     },
     "metadata": {
      "needs_background": "light"
     },
     "output_type": "display_data"
    }
   ],
   "source": [
    "random_normal = np.random.normal(10.0,20.0,5000)\n",
    "plt.hist(random_normal, 100, density=True, histtype ='bar', color = 'orange', label = 'Normal Dist', alpha = 0.7)"
   ],
   "metadata": {
    "collapsed": false,
    "pycharm": {
     "name": "#%%\n"
    }
   }
  },
  {
   "cell_type": "code",
   "execution_count": 6,
   "outputs": [
    {
     "data": {
      "text/plain": "array([-6.66078955, -2.3715738 , -0.25672067])"
     },
     "execution_count": 6,
     "metadata": {},
     "output_type": "execute_result"
    }
   ],
   "source": [
    "values = np.random.logistic(0.0, 1.0, 3)\n",
    "values"
   ],
   "metadata": {
    "collapsed": false,
    "pycharm": {
     "name": "#%%\n"
    }
   }
  },
  {
   "cell_type": "code",
   "execution_count": 7,
   "outputs": [
    {
     "data": {
      "text/plain": "<Figure size 432x288 with 1 Axes>",
      "image/png": "[encoded data removed]"
     },
     "metadata": {
      "needs_background": "light"
     },
     "output_type": "display_data"
    }
   ],
   "source": [
    "data = np.random.logistic(10,20, 500)\n",
    "count, bins, ignore = plt.hist(data, 50, density=True)\n",
    "plt.show()"
   ],
   "metadata": {
    "collapsed": false,
    "pycharm": {
     "name": "#%%\n"
    }
   }
  },
  {
   "cell_type": "code",
   "execution_count": 9,
   "outputs": [
    {
     "data": {
      "text/plain": "array([1.97518177, 1.27472751, 1.75886117])"
     },
     "execution_count": 9,
     "metadata": {},
     "output_type": "execute_result"
    }
   ],
   "source": [
    "data = np.random.uniform(1.0, 2.0, 3)\n",
    "data"
   ],
   "metadata": {
    "collapsed": false,
    "pycharm": {
     "name": "#%%\n"
    }
   }
  },
  {
   "cell_type": "code",
   "execution_count": 18,
   "outputs": [
    {
     "data": {
      "text/plain": "array([[ 1,  2,  3,  4,  5,  6],\n       [ 7,  8,  9, 10, 11, 12]])"
     },
     "execution_count": 18,
     "metadata": {},
     "output_type": "execute_result"
    }
   ],
   "source": [
    "matrix = np.array([[1,2,3],\n",
    "                   [4,5,6],\n",
    "                   [7,8,9],\n",
    "                   [10,11,12]])\n",
    "\n",
    "matrix.reshape(2,6)"
   ],
   "metadata": {
    "collapsed": false,
    "pycharm": {
     "name": "#%%\n"
    }
   }
  },
  {
   "cell_type": "code",
   "execution_count": 19,
   "outputs": [
    {
     "data": {
      "text/plain": "array([[ 1,  2,  3,  4,  5,  6,  7,  8,  9, 10, 11, 12]])"
     },
     "execution_count": 19,
     "metadata": {},
     "output_type": "execute_result"
    }
   ],
   "source": [
    "matrix.reshape(1, -1)\n"
   ],
   "metadata": {
    "collapsed": false,
    "pycharm": {
     "name": "#%%\n"
    }
   }
  }
 ],
 "metadata": {
  "kernelspec": {
   "name": "pycharm-7a5c3452",
   "language": "python",
   "display_name": "PyCharm (college)"
  },
  "language_info": {
   "codemirror_mode": {
    "name": "ipython",
    "version": 2
   },
   "file_extension": ".py",
   "mimetype": "text/x-python",
   "name": "python",
   "nbconvert_exporter": "python",
   "pygments_lexer": "ipython2",
   "version": "2.7.6"
  }
 },
 "nbformat": 4,
 "nbformat_minor": 0
}